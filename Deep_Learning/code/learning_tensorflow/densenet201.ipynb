{
 "cells": [
  {
   "cell_type": "code",
   "execution_count": 1,
   "id": "3ee5ffbf",
   "metadata": {},
   "outputs": [
    {
     "name": "stderr",
     "output_type": "stream",
     "text": [
      "Using TensorFlow backend.\n"
     ]
    }
   ],
   "source": [
    "# IMPORT MODULES\n",
    "from keras.callbacks import EarlyStopping, ModelCheckpoint, ReduceLROnPlateau\n",
    "from keras.layers import Input, Dense, GlobalAveragePooling2D\n",
    "from keras.preprocessing.image import ImageDataGenerator\n",
    "from keras.optimizers import Adam\n",
    "import matplotlib.pyplot as plt\n",
    "from keras.models import Model\n",
    "\n",
    "import numpy as np\n",
    "import pandas as pd"
   ]
  },
  {
   "cell_type": "code",
   "execution_count": 2,
   "id": "7faab382",
   "metadata": {},
   "outputs": [
    {
     "name": "stdout",
     "output_type": "stream",
     "text": [
      "WARNING:tensorflow:From c:\\Users\\Amo\\anaconda3\\lib\\site-packages\\tensorflow_core\\python\\ops\\resource_variable_ops.py:1630: calling BaseResourceVariable.__init__ (from tensorflow.python.ops.resource_variable_ops) with constraint is deprecated and will be removed in a future version.\n",
      "Instructions for updating:\n",
      "If using Keras pass *_constraint arguments to layers.\n"
     ]
    },
    {
     "name": "stdout",
     "output_type": "stream",
     "text": [
      "WARNING:tensorflow:From c:\\Users\\Amo\\anaconda3\\lib\\site-packages\\keras\\backend\\tensorflow_backend.py:4070: The name tf.nn.max_pool is deprecated. Please use tf.nn.max_pool2d instead.\n",
      "\n",
      "WARNING:tensorflow:From c:\\Users\\Amo\\anaconda3\\lib\\site-packages\\keras\\backend\\tensorflow_backend.py:4074: The name tf.nn.avg_pool is deprecated. Please use tf.nn.avg_pool2d instead.\n",
      "\n"
     ]
    }
   ],
   "source": [
    "# -----------------------------1.客製化模型--------------------------------\n",
    "# 載入keras模型(更換輸出圖片尺寸)\n",
    "from keras.applications import DenseNet201\n",
    "model = DenseNet201(include_top=False,\n",
    "                 weights='imagenet',\n",
    "                 input_tensor=Input(shape=(48, 48, 1))\n",
    "                 )\n",
    "\n",
    "# 定義輸出層\n",
    "x = model.output\n",
    "x = GlobalAveragePooling2D()(x)\n",
    "predictions = Dense(10, activation='softmax')(x)\n",
    "model = Model(inputs=model.input, outputs=predictions)\n",
    "\n",
    "# 編譯模型\n",
    "model.compile(optimizer=Adam(lr=0.001),\n",
    "              loss='categorical_crossentropy',\n",
    "              metrics=['accuracy'])\n",
    "\n",
    "#######################################################\n",
    "# 目前只有測試到這裡!! 還有儲存模型"
   ]
  },
  {
   "cell_type": "code",
   "execution_count": 3,
   "id": "276712b2",
   "metadata": {},
   "outputs": [],
   "source": [
    "# ---------------------------2.設置callbacks----------------------------\n",
    "# 設定earlystop條件\n",
    "estop = EarlyStopping(monitor='val_loss', patience=10, mode='min', verbose=1)\n",
    "\n",
    "# 設定模型儲存條件\n",
    "checkpoint = ModelCheckpoint('Densenet201_checkpoint_v2.h5', verbose=1,\n",
    "                          monitor='val_loss', save_best_only=True,\n",
    "                          mode='min')\n",
    "\n",
    "# 設定lr降低條件(0.001 → 0.0002 → 0.00004 → 0.00001)\n",
    "reduce_lr = ReduceLROnPlateau(monitor='val_loss', factor=0.5,\n",
    "                           patience=5, mode='min', verbose=1,\n",
    "                           min_lr=1e-4)"
   ]
  },
  {
   "cell_type": "code",
   "execution_count": 4,
   "id": "2fdcb3ad",
   "metadata": {},
   "outputs": [],
   "source": [
    "# # -----------------------------3.設置資料集--------------------------------\n",
    "# # 設定ImageDataGenerator參數(路徑、批量、圖片尺寸)\n",
    "# train_dir = './workout/train/'\n",
    "# valid_dir = './workout/val/'\n",
    "# test_dir = './workout/test/'\n",
    "# batch_size = 64\n",
    "# target_size = (80, 80)\n",
    "\n",
    "# # 設定批量生成器\n",
    "# train_datagen = ImageDataGenerator(rescale=1./255, \n",
    "#                                    rotation_range=20,\n",
    "#                                    width_shift_range=0.2,\n",
    "#                                    height_shift_range=0.2,\n",
    "#                                    shear_range=0.2, \n",
    "#                                    zoom_range=0.5,\n",
    "#                                    fill_mode=\"nearest\")\n",
    "\n",
    "# val_datagen = ImageDataGenerator(rescale=1./255)\n",
    "\n",
    "# test_datagen = ImageDataGenerator(rescale=1./255)\n",
    "\n",
    "# # 讀取資料集+批量生成器，產生每epoch訓練樣本\n",
    "# train_generator = train_datagen.flow_from_directory(train_dir,\n",
    "#                                       target_size=target_size,\n",
    "#                                       batch_size=batch_size)\n",
    "\n",
    "# valid_generator = val_datagen.flow_from_directory(valid_dir,\n",
    "#                                       target_size=target_size,\n",
    "#                                       batch_size=batch_size)\n",
    "\n",
    "# test_generator = test_datagen.flow_from_directory(test_dir,\n",
    "#                                       target_size=target_size,\n",
    "#                                       batch_size=batch_size,\n",
    "#                                       shuffle=False)"
   ]
  },
  {
   "cell_type": "code",
   "execution_count": 5,
   "id": "cf15645e",
   "metadata": {},
   "outputs": [],
   "source": [
    "# settings\n",
    "\n",
    "# all_data_path = '../input' # for kaggle\n",
    "all_data_path = r'E:/other_data/' # for local\n",
    "# all_data_path = 'D:/dont_move/kaggle_input' # for big data\n",
    "\n",
    "test_data_path = all_data_path+r'/digit-recognizer/test.csv'\n",
    "train_data_path = all_data_path+r'/digit-recognizer/train.csv'\n",
    "# error_enhance_path = [all_data_path+'/mnist-error-enhance/error_enhance', '.csv']\n",
    "\n",
    "# checkpoint_path = \"./checkpoint/train_checkpoint\"\n",
    "# checkpoint_dir = \"./checkpoint\"\n",
    "# final_checkpoint = './checkpoint/final_checkpoint'\n",
    "# final_model = './saved_model/final_model'"
   ]
  },
  {
   "cell_type": "code",
   "execution_count": 6,
   "id": "931527bd",
   "metadata": {},
   "outputs": [
    {
     "name": "stdout",
     "output_type": "stream",
     "text": [
      "train_val_label shape: (42000,)\n",
      "train_val_pic shape: (42000, 48, 48, 1)\n"
     ]
    }
   ],
   "source": [
    "# 讀取資料\n",
    "train_val_data = pd.read_csv(train_data_path)\n",
    "# 取得 train_data 的 label\n",
    "train_val_label = train_val_data['label']\n",
    "# 取得 train_data 的 image\n",
    "train_val_pic = train_val_data.iloc[:,1:].values.reshape(-1,28,28,1)  # 從1開始是因為第一行是 label \n",
    "train_val_pic = train_val_pic.astype(\"uint8\")\n",
    "\n",
    "# 因為圖片太小 要resize放大\n",
    "import cv2\n",
    "train_val_pic = np.concatenate([ cv2.resize( temp_pic, (48,48)).reshape(1,48,48,1) for temp_pic in train_val_pic ], axis = 0)\n",
    "\n",
    "print('train_val_label shape:', train_val_label.shape)\n",
    "print('train_val_pic shape:', train_val_pic.shape)"
   ]
  },
  {
   "cell_type": "code",
   "execution_count": 7,
   "id": "c6f9493d",
   "metadata": {},
   "outputs": [
    {
     "name": "stdout",
     "output_type": "stream",
     "text": [
      "(48, 48, 1)\n",
      "<class 'numpy.ndarray'>\n",
      "uint8\n"
     ]
    },
    {
     "data": {
      "text/plain": [
       "<matplotlib.image.AxesImage at 0x20662a17d88>"
      ]
     },
     "execution_count": 7,
     "metadata": {},
     "output_type": "execute_result"
    },
    {
     "data": {
      "image/png": "[encoded data removed]",
      "text/plain": [
       "<Figure size 432x288 with 1 Axes>"
      ]
     },
     "metadata": {
      "needs_background": "light"
     },
     "output_type": "display_data"
    }
   ],
   "source": [
    "print(train_val_pic[0].shape)\n",
    "print(type(train_val_pic[0]))\n",
    "print(train_val_pic[0].dtype)\n",
    "resize_pic = cv2.resize(train_val_pic[0], (48,48))\n",
    "plt.imshow( resize_pic, cmap=plt.get_cmap('gray'))\n"
   ]
  },
  {
   "cell_type": "code",
   "execution_count": 8,
   "id": "e8c927e4",
   "metadata": {},
   "outputs": [
    {
     "data": {
      "image/png": "[encoded data removed]",
      "text/plain": [
       "<Figure size 504x144 with 14 Axes>"
      ]
     },
     "metadata": {},
     "output_type": "display_data"
    }
   ],
   "source": [
    "# 確認 train_val_pic 沒問題\n",
    "class_names = ['0', '1', '2', '3', '4', '5', '6', '7', '8', '9']\n",
    "plt.figure(figsize=(7,2))  # 設定這個 plt 要顯示的大小\n",
    "for i in range(14):\n",
    "    plt.subplot(2,7,i+1)     # 切換到對應要顯示的位置\n",
    "    plt.xticks([])\n",
    "    plt.yticks([])\n",
    "    plt.grid(False)\n",
    "    plt.imshow(train_val_pic[i], cmap=plt.get_cmap('gray'))  # 這裡要注意不管有沒有 /255，印出來的圖片都會長的一樣\n",
    "    plt.xlabel(class_names[int(train_val_label[i])])\n",
    "plt.show()"
   ]
  },
  {
   "cell_type": "code",
   "execution_count": 9,
   "id": "3dfcbcda",
   "metadata": {},
   "outputs": [],
   "source": [
    "# 確定資料沒問題後 開始調整至符合 input 跟 output 的形狀\n",
    "train_val_pic = train_val_pic.reshape((train_val_label.shape[0], 48, 48, 1)).astype('float64') /255.0"
   ]
  },
  {
   "cell_type": "code",
   "execution_count": 10,
   "id": "1da52310",
   "metadata": {},
   "outputs": [
    {
     "name": "stdout",
     "output_type": "stream",
     "text": [
      "train_pic shape: (37800, 48, 48, 1)\n",
      "val_pic shape: (4200, 48, 48, 1)\n",
      "train_label shape: (37800, 10)\n",
      "val_label shape: (4200, 10)\n"
     ]
    }
   ],
   "source": [
    "# 通常會用 test_data 當作 valid_data\n",
    "# 但因為kaggle沒有給 所以就再從train_data分出來\n",
    "\n",
    "# Split data\n",
    "from sklearn.model_selection import train_test_split\n",
    "from keras.utils import to_categorical\n",
    "train_val_label = to_categorical(train_val_label)\n",
    "train_pic, val_pic , train_label, val_label = train_test_split(train_val_pic, train_val_label, \n",
    "    test_size=0.1, random_state=200)\n",
    "    # random_state 如果想要重現一樣的結果 就代入同樣的數字 有點像 random seed\n",
    "\n",
    "# 這時候就不能再用 for 印 plot \n",
    "# 因為 dataset 已經分成兩組 且打亂了\n",
    "# 所以有些 位置 已經被抽走了 所以會造成 Key error\n",
    "    \n",
    "print('train_pic shape:', train_pic.shape)\n",
    "print('val_pic shape:', val_pic.shape)\n",
    "print('train_label shape:', train_label.shape)\n",
    "print('val_label shape:', val_label.shape)"
   ]
  },
  {
   "cell_type": "code",
   "execution_count": 11,
   "id": "6047655c",
   "metadata": {},
   "outputs": [],
   "source": [
    "# because of using tensorflow 的 mnist dataset can improve accuracy \n",
    "# so I try to generate more inputs by using ImageDataGenerator\n",
    "# 多樣化 input\n",
    "train_flow = None\n",
    "data_gen = ImageDataGenerator(rotation_range = 20,\n",
    "                          width_shift_range = 0.1,\n",
    "                          height_shift_range = 0.1,\n",
    "                          horizontal_flip = False,\n",
    "                          vertical_flip = False,\n",
    "                          fill_mode = 'constant',\n",
    "                          cval = 0,  \n",
    "                          data_format = 'channels_last'\n",
    "                        )\n",
    "\n",
    "train_flow = data_gen.flow(train_pic, train_label)"
   ]
  },
  {
   "cell_type": "code",
   "execution_count": 14,
   "id": "c10ab147",
   "metadata": {},
   "outputs": [
    {
     "name": "stdout",
     "output_type": "stream",
     "text": [
      "Epoch 1/50\n"
     ]
    },
    {
     "ename": "InvalidArgumentError",
     "evalue": "2 root error(s) found.\n  (0) Invalid argument: input depth must be evenly divisible by filter depth: 1 vs 7\n\t [[{{node conv1/conv/convolution}}]]\n\t [[metrics/accuracy/Identity/_10099]]\n  (1) Invalid argument: input depth must be evenly divisible by filter depth: 1 vs 7\n\t [[{{node conv1/conv/convolution}}]]\n0 successful operations.\n0 derived errors ignored.",
     "output_type": "error",
     "traceback": [
      "\u001b[1;31m---------------------------------------------------------------------------\u001b[0m",
      "\u001b[1;31mInvalidArgumentError\u001b[0m                      Traceback (most recent call last)",
      "\u001b[1;32m~\\AppData\\Local\\Temp\\ipykernel_4676\\3715432923.py\u001b[0m in \u001b[0;36m<module>\u001b[1;34m\u001b[0m\n\u001b[0;32m      4\u001b[0m                    \u001b[0mepochs\u001b[0m\u001b[1;33m=\u001b[0m\u001b[1;36m50\u001b[0m\u001b[1;33m,\u001b[0m \u001b[0mverbose\u001b[0m\u001b[1;33m=\u001b[0m\u001b[1;36m1\u001b[0m\u001b[1;33m,\u001b[0m\u001b[1;33m\u001b[0m\u001b[1;33m\u001b[0m\u001b[0m\n\u001b[0;32m      5\u001b[0m                    \u001b[0mvalidation_data\u001b[0m\u001b[1;33m=\u001b[0m\u001b[1;33m(\u001b[0m\u001b[0mval_pic\u001b[0m\u001b[1;33m,\u001b[0m \u001b[0mval_label\u001b[0m\u001b[1;33m)\u001b[0m\u001b[1;33m,\u001b[0m\u001b[1;33m\u001b[0m\u001b[1;33m\u001b[0m\u001b[0m\n\u001b[1;32m----> 6\u001b[1;33m                    callbacks=[checkpoint, estop, reduce_lr])\n\u001b[0m",
      "\u001b[1;32mc:\\Users\\Amo\\anaconda3\\lib\\site-packages\\keras\\engine\\training.py\u001b[0m in \u001b[0;36mfit\u001b[1;34m(self, x, y, batch_size, epochs, verbose, callbacks, validation_split, validation_data, shuffle, class_weight, sample_weight, initial_epoch, steps_per_epoch, validation_steps, validation_freq, max_queue_size, workers, use_multiprocessing, **kwargs)\u001b[0m\n\u001b[0;32m   1145\u001b[0m                 \u001b[0muse_multiprocessing\u001b[0m\u001b[1;33m=\u001b[0m\u001b[0muse_multiprocessing\u001b[0m\u001b[1;33m,\u001b[0m\u001b[1;33m\u001b[0m\u001b[1;33m\u001b[0m\u001b[0m\n\u001b[0;32m   1146\u001b[0m                 \u001b[0mshuffle\u001b[0m\u001b[1;33m=\u001b[0m\u001b[0mshuffle\u001b[0m\u001b[1;33m,\u001b[0m\u001b[1;33m\u001b[0m\u001b[1;33m\u001b[0m\u001b[0m\n\u001b[1;32m-> 1147\u001b[1;33m                 initial_epoch=initial_epoch)\n\u001b[0m\u001b[0;32m   1148\u001b[0m \u001b[1;33m\u001b[0m\u001b[0m\n\u001b[0;32m   1149\u001b[0m         \u001b[1;31m# Case 2: Symbolic tensors or Numpy array-like.\u001b[0m\u001b[1;33m\u001b[0m\u001b[1;33m\u001b[0m\u001b[1;33m\u001b[0m\u001b[0m\n",
      "\u001b[1;32mc:\\Users\\Amo\\anaconda3\\lib\\site-packages\\keras\\legacy\\interfaces.py\u001b[0m in \u001b[0;36mwrapper\u001b[1;34m(*args, **kwargs)\u001b[0m\n\u001b[0;32m     89\u001b[0m                 warnings.warn('Update your `' + object_name + '` call to the ' +\n\u001b[0;32m     90\u001b[0m                               'Keras 2 API: ' + signature, stacklevel=2)\n\u001b[1;32m---> 91\u001b[1;33m             \u001b[1;32mreturn\u001b[0m \u001b[0mfunc\u001b[0m\u001b[1;33m(\u001b[0m\u001b[1;33m*\u001b[0m\u001b[0margs\u001b[0m\u001b[1;33m,\u001b[0m \u001b[1;33m**\u001b[0m\u001b[0mkwargs\u001b[0m\u001b[1;33m)\u001b[0m\u001b[1;33m\u001b[0m\u001b[1;33m\u001b[0m\u001b[0m\n\u001b[0m\u001b[0;32m     92\u001b[0m         \u001b[0mwrapper\u001b[0m\u001b[1;33m.\u001b[0m\u001b[0m_original_function\u001b[0m \u001b[1;33m=\u001b[0m \u001b[0mfunc\u001b[0m\u001b[1;33m\u001b[0m\u001b[1;33m\u001b[0m\u001b[0m\n\u001b[0;32m     93\u001b[0m         \u001b[1;32mreturn\u001b[0m \u001b[0mwrapper\u001b[0m\u001b[1;33m\u001b[0m\u001b[1;33m\u001b[0m\u001b[0m\n",
      "\u001b[1;32mc:\\Users\\Amo\\anaconda3\\lib\\site-packages\\keras\\engine\\training.py\u001b[0m in \u001b[0;36mfit_generator\u001b[1;34m(self, generator, steps_per_epoch, epochs, verbose, callbacks, validation_data, validation_steps, validation_freq, class_weight, max_queue_size, workers, use_multiprocessing, shuffle, initial_epoch)\u001b[0m\n\u001b[0;32m   1730\u001b[0m             \u001b[0muse_multiprocessing\u001b[0m\u001b[1;33m=\u001b[0m\u001b[0muse_multiprocessing\u001b[0m\u001b[1;33m,\u001b[0m\u001b[1;33m\u001b[0m\u001b[1;33m\u001b[0m\u001b[0m\n\u001b[0;32m   1731\u001b[0m             \u001b[0mshuffle\u001b[0m\u001b[1;33m=\u001b[0m\u001b[0mshuffle\u001b[0m\u001b[1;33m,\u001b[0m\u001b[1;33m\u001b[0m\u001b[1;33m\u001b[0m\u001b[0m\n\u001b[1;32m-> 1732\u001b[1;33m             initial_epoch=initial_epoch)\n\u001b[0m\u001b[0;32m   1733\u001b[0m \u001b[1;33m\u001b[0m\u001b[0m\n\u001b[0;32m   1734\u001b[0m     \u001b[1;33m@\u001b[0m\u001b[0minterfaces\u001b[0m\u001b[1;33m.\u001b[0m\u001b[0mlegacy_generator_methods_support\u001b[0m\u001b[1;33m\u001b[0m\u001b[1;33m\u001b[0m\u001b[0m\n",
      "\u001b[1;32mc:\\Users\\Amo\\anaconda3\\lib\\site-packages\\keras\\engine\\training_generator.py\u001b[0m in \u001b[0;36mfit_generator\u001b[1;34m(model, generator, steps_per_epoch, epochs, verbose, callbacks, validation_data, validation_steps, validation_freq, class_weight, max_queue_size, workers, use_multiprocessing, shuffle, initial_epoch)\u001b[0m\n\u001b[0;32m    218\u001b[0m                                             \u001b[0msample_weight\u001b[0m\u001b[1;33m=\u001b[0m\u001b[0msample_weight\u001b[0m\u001b[1;33m,\u001b[0m\u001b[1;33m\u001b[0m\u001b[1;33m\u001b[0m\u001b[0m\n\u001b[0;32m    219\u001b[0m                                             \u001b[0mclass_weight\u001b[0m\u001b[1;33m=\u001b[0m\u001b[0mclass_weight\u001b[0m\u001b[1;33m,\u001b[0m\u001b[1;33m\u001b[0m\u001b[1;33m\u001b[0m\u001b[0m\n\u001b[1;32m--> 220\u001b[1;33m                                             reset_metrics=False)\n\u001b[0m\u001b[0;32m    221\u001b[0m \u001b[1;33m\u001b[0m\u001b[0m\n\u001b[0;32m    222\u001b[0m                 \u001b[0mouts\u001b[0m \u001b[1;33m=\u001b[0m \u001b[0mto_list\u001b[0m\u001b[1;33m(\u001b[0m\u001b[0mouts\u001b[0m\u001b[1;33m)\u001b[0m\u001b[1;33m\u001b[0m\u001b[1;33m\u001b[0m\u001b[0m\n",
      "\u001b[1;32mc:\\Users\\Amo\\anaconda3\\lib\\site-packages\\keras\\engine\\training.py\u001b[0m in \u001b[0;36mtrain_on_batch\u001b[1;34m(self, x, y, sample_weight, class_weight, reset_metrics)\u001b[0m\n\u001b[0;32m   1512\u001b[0m             \u001b[0mins\u001b[0m \u001b[1;33m=\u001b[0m \u001b[0mx\u001b[0m \u001b[1;33m+\u001b[0m \u001b[0my\u001b[0m \u001b[1;33m+\u001b[0m \u001b[0msample_weights\u001b[0m\u001b[1;33m\u001b[0m\u001b[1;33m\u001b[0m\u001b[0m\n\u001b[0;32m   1513\u001b[0m         \u001b[0mself\u001b[0m\u001b[1;33m.\u001b[0m\u001b[0m_make_train_function\u001b[0m\u001b[1;33m(\u001b[0m\u001b[1;33m)\u001b[0m\u001b[1;33m\u001b[0m\u001b[1;33m\u001b[0m\u001b[0m\n\u001b[1;32m-> 1514\u001b[1;33m         \u001b[0moutputs\u001b[0m \u001b[1;33m=\u001b[0m \u001b[0mself\u001b[0m\u001b[1;33m.\u001b[0m\u001b[0mtrain_function\u001b[0m\u001b[1;33m(\u001b[0m\u001b[0mins\u001b[0m\u001b[1;33m)\u001b[0m\u001b[1;33m\u001b[0m\u001b[1;33m\u001b[0m\u001b[0m\n\u001b[0m\u001b[0;32m   1515\u001b[0m \u001b[1;33m\u001b[0m\u001b[0m\n\u001b[0;32m   1516\u001b[0m         \u001b[1;32mif\u001b[0m \u001b[0mreset_metrics\u001b[0m\u001b[1;33m:\u001b[0m\u001b[1;33m\u001b[0m\u001b[1;33m\u001b[0m\u001b[0m\n",
      "\u001b[1;32mc:\\Users\\Amo\\anaconda3\\lib\\site-packages\\tensorflow_core\\python\\keras\\backend.py\u001b[0m in \u001b[0;36m__call__\u001b[1;34m(self, inputs)\u001b[0m\n\u001b[0;32m   3474\u001b[0m \u001b[1;33m\u001b[0m\u001b[0m\n\u001b[0;32m   3475\u001b[0m     fetched = self._callable_fn(*array_vals,\n\u001b[1;32m-> 3476\u001b[1;33m                                 run_metadata=self.run_metadata)\n\u001b[0m\u001b[0;32m   3477\u001b[0m     \u001b[0mself\u001b[0m\u001b[1;33m.\u001b[0m\u001b[0m_call_fetch_callbacks\u001b[0m\u001b[1;33m(\u001b[0m\u001b[0mfetched\u001b[0m\u001b[1;33m[\u001b[0m\u001b[1;33m-\u001b[0m\u001b[0mlen\u001b[0m\u001b[1;33m(\u001b[0m\u001b[0mself\u001b[0m\u001b[1;33m.\u001b[0m\u001b[0m_fetches\u001b[0m\u001b[1;33m)\u001b[0m\u001b[1;33m:\u001b[0m\u001b[1;33m]\u001b[0m\u001b[1;33m)\u001b[0m\u001b[1;33m\u001b[0m\u001b[1;33m\u001b[0m\u001b[0m\n\u001b[0;32m   3478\u001b[0m     output_structure = nest.pack_sequence_as(\n",
      "\u001b[1;32mc:\\Users\\Amo\\anaconda3\\lib\\site-packages\\tensorflow_core\\python\\client\\session.py\u001b[0m in \u001b[0;36m__call__\u001b[1;34m(self, *args, **kwargs)\u001b[0m\n\u001b[0;32m   1470\u001b[0m         ret = tf_session.TF_SessionRunCallable(self._session._session,\n\u001b[0;32m   1471\u001b[0m                                                \u001b[0mself\u001b[0m\u001b[1;33m.\u001b[0m\u001b[0m_handle\u001b[0m\u001b[1;33m,\u001b[0m \u001b[0margs\u001b[0m\u001b[1;33m,\u001b[0m\u001b[1;33m\u001b[0m\u001b[1;33m\u001b[0m\u001b[0m\n\u001b[1;32m-> 1472\u001b[1;33m                                                run_metadata_ptr)\n\u001b[0m\u001b[0;32m   1473\u001b[0m         \u001b[1;32mif\u001b[0m \u001b[0mrun_metadata\u001b[0m\u001b[1;33m:\u001b[0m\u001b[1;33m\u001b[0m\u001b[1;33m\u001b[0m\u001b[0m\n\u001b[0;32m   1474\u001b[0m           \u001b[0mproto_data\u001b[0m \u001b[1;33m=\u001b[0m \u001b[0mtf_session\u001b[0m\u001b[1;33m.\u001b[0m\u001b[0mTF_GetBuffer\u001b[0m\u001b[1;33m(\u001b[0m\u001b[0mrun_metadata_ptr\u001b[0m\u001b[1;33m)\u001b[0m\u001b[1;33m\u001b[0m\u001b[1;33m\u001b[0m\u001b[0m\n",
      "\u001b[1;31mInvalidArgumentError\u001b[0m: 2 root error(s) found.\n  (0) Invalid argument: input depth must be evenly divisible by filter depth: 1 vs 7\n\t [[{{node conv1/conv/convolution}}]]\n\t [[metrics/accuracy/Identity/_10099]]\n  (1) Invalid argument: input depth must be evenly divisible by filter depth: 1 vs 7\n\t [[{{node conv1/conv/convolution}}]]\n0 successful operations.\n0 derived errors ignored."
     ]
    }
   ],
   "source": [
    "# -----------------------------4.開始訓練模型------------------------------\n",
    "# 重新訓練權重\n",
    "history = model.fit(train_flow, \\\n",
    "                   epochs=50, verbose=1,\n",
    "                   validation_data=(val_pic, val_label),\n",
    "                   callbacks=[checkpoint, estop, reduce_lr])"
   ]
  },
  {
   "cell_type": "code",
   "execution_count": null,
   "id": "549d5c52",
   "metadata": {},
   "outputs": [
    {
     "name": "stdout",
     "output_type": "stream",
     "text": [
      "已儲存./save_model/Densenet201_retrained_v2.pb\n"
     ]
    }
   ],
   "source": [
    "# -----------------------5.儲存模型------------------------\n",
    "# save_model_name = \"Densenet201_retrained_v2.h5\"\n",
    "save_model_name = \"Densenet201_retrained_v2.pb\"\n",
    "# save_model_name = \"Densenet201_retrained_v2.pbtxt\"\n",
    "model.save('./' + save_model_name)\n",
    "print('已儲存'+save_model_name)"
   ]
  },
  {
   "cell_type": "code",
   "execution_count": null,
   "id": "645c3d50",
   "metadata": {},
   "outputs": [],
   "source": [
    "import tensorflow as tf\n",
    "with tf.Session() as sess:\n",
    "    sess.run(tf.global_variables_initializer())\n",
    "    sess.run(tf.local_variables_initializer())\n",
    "\n",
    "    frozen_graph = tf.graph_util.convert_variables_to_constants(\n",
    "        sess, tf.get_default_graph().as_graph_def(), ['conv_3/BiasAdd'])\n",
    "\n",
    "    tf.io.write_graph(frozen_graph, \"../pb/\", \"frozen_model.pb\", as_text=False)\n",
    "    tf.io.write_graph(frozen_graph, \"../pb/\", \"frozen_model.pbtxt\", as_text=True)\n",
    "\n",
    "    tf.summary.FileWriter(OUTPUT_PATH, graph=frozen_graph, filename_suffix='_model_value')"
   ]
  },
  {
   "cell_type": "code",
   "execution_count": null,
   "id": "7bb32c8d",
   "metadata": {},
   "outputs": [],
   "source": [
    "# -----------------------6.紀錄學習曲線------------------------\n",
    "# 畫出acc學習曲線\n",
    "acc = history.history['accuracy']\n",
    "epochs = range(1, len(acc) + 1)\n",
    "val_acc = history.history['val_accuracy']\n",
    "plt.plot(epochs, acc, 'bo', label='Training acc')\n",
    "plt.plot(epochs, val_acc, 'r', label='Validation acc')\n",
    "plt.title('Training and validation accuracy')\n",
    "plt.legend(loc='lower right')\n",
    "plt.grid()\n",
    "# 儲存acc學習曲線\n",
    "plt.savefig('./acc.png')\n",
    "plt.show()\n",
    "\n",
    "# 畫出loss學習曲線\n",
    "loss = history.history['loss']\n",
    "val_loss = history.history['val_loss']\n",
    "plt.plot(epochs, loss, 'bo', label='Training loss')\n",
    "plt.plot(epochs, val_loss, 'r', label='Validation loss')\n",
    "plt.title('Training and validation loss')\n",
    "plt.legend(loc='upper right')\n",
    "plt.grid()\n",
    "# 儲存loss學習曲線\n",
    "plt.savefig('loss.png')\n",
    "plt.show()"
   ]
  }
 ],
 "metadata": {
  "kernelspec": {
   "display_name": "Python 3.7.13 ('pytorch_cpu')",
   "language": "python",
   "name": "python3"
  },
  "language_info": {
   "codemirror_mode": {
    "name": "ipython",
    "version": 3
   },
   "file_extension": ".py",
   "mimetype": "text/x-python",
   "name": "python",
   "nbconvert_exporter": "python",
   "pygments_lexer": "ipython3",
   "version": "3.7.13"
  },
  "vscode": {
   "interpreter": {
    "hash": "8f8969ddbe274ce60ce702c2d151a1feb5bfbd8068634f4d50f57ebbb3fdb0e2"
   }
  }
 },
 "nbformat": 4,
 "nbformat_minor": 5
}
