{
 "cells": [
  {
   "cell_type": "code",
   "execution_count": 1,
   "id": "persistent-interference",
   "metadata": {
    "execution": {
     "iopub.execute_input": "2021-06-23T03:19:57.233577Z",
     "iopub.status.busy": "2021-06-23T03:19:57.232919Z",
     "iopub.status.idle": "2021-06-23T03:20:02.756912Z",
     "shell.execute_reply": "2021-06-23T03:20:02.756323Z",
     "shell.execute_reply.started": "2021-06-23T03:14:01.775985Z"
    },
    "papermill": {
     "duration": 5.555061,
     "end_time": "2021-06-23T03:20:02.757083",
     "exception": false,
     "start_time": "2021-06-23T03:19:57.202022",
     "status": "completed"
    },
    "tags": []
   },
   "outputs": [],
   "source": [
    "# 已確認可以運行\n",
    "# https://ithelp.ithome.com.tw/articles/10215368\n",
    "\n",
    "import tensorflow as tf\n",
    "\n",
    "import os\n",
    "try :\n",
    "    os.mkdir(\"./pb\")\n",
    "except FileExistsError :\n",
    "    pass"
   ]
  },
  {
   "cell_type": "code",
   "execution_count": 2,
   "id": "4c3967ed",
   "metadata": {},
   "outputs": [
    {
     "name": "stdout",
     "output_type": "stream",
     "text": [
      "WARNING:tensorflow:From C:\\Users\\Amo\\AppData\\Local\\Temp\\ipykernel_12372\\1493112638.py:2: The name tf.placeholder is deprecated. Please use tf.compat.v1.placeholder instead.\n",
      "\n",
      "WARNING:tensorflow:From C:\\Users\\Amo\\AppData\\Local\\Temp\\ipykernel_12372\\1493112638.py:3: conv2d (from tensorflow.python.layers.convolutional) is deprecated and will be removed in a future version.\n",
      "Instructions for updating:\n",
      "Use `tf.keras.layers.Conv2D` instead.\n",
      "WARNING:tensorflow:From c:\\Users\\Amo\\anaconda3\\lib\\site-packages\\tensorflow_core\\python\\layers\\convolutional.py:424: Layer.apply (from tensorflow.python.keras.engine.base_layer) is deprecated and will be removed in a future version.\n",
      "Instructions for updating:\n",
      "Please use `layer.__call__` method instead.\n",
      "<class 'tensorflow.python.framework.ops.Tensor'>\n"
     ]
    }
   ],
   "source": [
    "# 建立一個小小的 Model 測試\n",
    "input_node = tf.placeholder(shape=[None, 100, 100, 3], dtype=tf.float32)\n",
    "net = tf.layers.conv2d(input_node, 32, (3, 3), strides=(2, 2), padding='same', name='conv_1')\n",
    "net = tf.layers.conv2d(net, 32, (3, 3), strides=(1, 1), padding='same', name='conv_2')\n",
    "net = tf.layers.conv2d(net, 64, (3, 3), strides=(2, 2), padding='same', name='conv_3')\n",
    "\n",
    "print(type(net))"
   ]
  },
  {
   "cell_type": "code",
   "execution_count": 5,
   "id": "8ba798b5",
   "metadata": {},
   "outputs": [
    {
     "name": "stdout",
     "output_type": "stream",
     "text": [
      "Tensor(\"conv_3/BiasAdd:0\", shape=(?, 25, 25, 64), dtype=float32)\n"
     ]
    }
   ],
   "source": [
    "print(net)"
   ]
  },
  {
   "cell_type": "code",
   "execution_count": 3,
   "id": "6f7e67f0",
   "metadata": {},
   "outputs": [
    {
     "name": "stdout",
     "output_type": "stream",
     "text": [
      "WARNING:tensorflow:From C:\\Users\\Amo\\AppData\\Local\\Temp\\ipykernel_12372\\1874931196.py:2: The name tf.get_default_graph is deprecated. Please use tf.compat.v1.get_default_graph instead.\n",
      "\n"
     ]
    },
    {
     "data": {
      "text/plain": [
       "'./pb/small_model.pbtxt'"
      ]
     },
     "execution_count": 3,
     "metadata": {},
     "output_type": "execute_result"
    }
   ],
   "source": [
    "# pb\n",
    "tf.io.write_graph(tf.get_default_graph(), \"./pb/\", \"small_model.pb\", as_text=False)\n",
    "# pbtxt \n",
    "tf.io.write_graph(tf.get_default_graph(), \"./pb/\", \"small_model.pbtxt\", as_text=True)"
   ]
  },
  {
   "cell_type": "code",
   "execution_count": 4,
   "id": "1857faaf",
   "metadata": {},
   "outputs": [
    {
     "name": "stdout",
     "output_type": "stream",
     "text": [
      "WARNING:tensorflow:From C:\\Users\\Amo\\AppData\\Local\\Temp\\ipykernel_12372\\2477603770.py:1: The name tf.Session is deprecated. Please use tf.compat.v1.Session instead.\n",
      "\n"
     ]
    },
    {
     "name": "stdout",
     "output_type": "stream",
     "text": [
      "WARNING:tensorflow:From C:\\Users\\Amo\\AppData\\Local\\Temp\\ipykernel_12372\\2477603770.py:2: The name tf.global_variables_initializer is deprecated. Please use tf.compat.v1.global_variables_initializer instead.\n",
      "\n",
      "WARNING:tensorflow:From C:\\Users\\Amo\\AppData\\Local\\Temp\\ipykernel_12372\\2477603770.py:3: The name tf.local_variables_initializer is deprecated. Please use tf.compat.v1.local_variables_initializer instead.\n",
      "\n",
      "WARNING:tensorflow:From C:\\Users\\Amo\\AppData\\Local\\Temp\\ipykernel_12372\\2477603770.py:6: convert_variables_to_constants (from tensorflow.python.framework.graph_util_impl) is deprecated and will be removed in a future version.\n",
      "Instructions for updating:\n",
      "Use `tf.compat.v1.graph_util.convert_variables_to_constants`\n",
      "WARNING:tensorflow:From c:\\Users\\Amo\\anaconda3\\lib\\site-packages\\tensorflow_core\\python\\framework\\graph_util_impl.py:277: extract_sub_graph (from tensorflow.python.framework.graph_util_impl) is deprecated and will be removed in a future version.\n",
      "Instructions for updating:\n",
      "Use `tf.compat.v1.graph_util.extract_sub_graph`\n",
      "INFO:tensorflow:Froze 6 variables.\n",
      "INFO:tensorflow:Converted 6 variables to const ops.\n"
     ]
    }
   ],
   "source": [
    "with tf.Session() as sess:\n",
    "    sess.run(tf.global_variables_initializer())\n",
    "    sess.run(tf.local_variables_initializer())\n",
    "\n",
    "    frozen_graph = tf.graph_util.convert_variables_to_constants(\n",
    "        sess, tf.get_default_graph().as_graph_def(), ['conv_3/BiasAdd'])\n",
    "\n",
    "    tf.io.write_graph(frozen_graph, \"./pb/\", \"frozen_model.pb\", as_text=False)\n",
    "    tf.io.write_graph(frozen_graph, \"./pb/\", \"frozen_model.pbtxt\", as_text=True)"
   ]
  }
 ],
 "metadata": {
  "kernelspec": {
   "display_name": "Python 3",
   "language": "python",
   "name": "python3"
  },
  "language_info": {
   "codemirror_mode": {
    "name": "ipython",
    "version": 3
   },
   "file_extension": ".py",
   "mimetype": "text/x-python",
   "name": "python",
   "nbconvert_exporter": "python",
   "pygments_lexer": "ipython3",
   "version": "3.7.13"
  },
  "papermill": {
   "default_parameters": {},
   "duration": 280.859545,
   "end_time": "2021-06-23T03:24:31.840792",
   "environment_variables": {},
   "exception": null,
   "input_path": "__notebook__.ipynb",
   "output_path": "__notebook__.ipynb",
   "parameters": {},
   "start_time": "2021-06-23T03:19:50.981247",
   "version": "2.3.3"
  }
 },
 "nbformat": 4,
 "nbformat_minor": 5
}
