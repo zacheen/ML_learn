{
 "cells": [
  {
   "cell_type": "code",
   "execution_count": 1,
   "id": "persistent-interference",
   "metadata": {
    "execution": {
     "iopub.execute_input": "2021-06-23T03:19:57.233577Z",
     "iopub.status.busy": "2021-06-23T03:19:57.232919Z",
     "iopub.status.idle": "2021-06-23T03:20:02.756912Z",
     "shell.execute_reply": "2021-06-23T03:20:02.756323Z",
     "shell.execute_reply.started": "2021-06-23T03:14:01.775985Z"
    },
    "papermill": {
     "duration": 5.555061,
     "end_time": "2021-06-23T03:20:02.757083",
     "exception": false,
     "start_time": "2021-06-23T03:19:57.202022",
     "status": "completed"
    },
    "tags": []
   },
   "outputs": [],
   "source": [
    "import numpy as np\n",
    "import pandas as pd\n",
    "import os\n",
    "import matplotlib.pyplot as plt\n",
    "import tensorflow as tf\n",
    "\n",
    "from tensorflow.keras.utils import to_categorical\n",
    "from tensorflow.keras.preprocessing.image import load_img, img_to_array\n",
    "from tensorflow.python.keras.preprocessing.image import ImageDataGenerator\n",
    "\n",
    "from sklearn.metrics import classification_report, log_loss, accuracy_score\n",
    "from sklearn.model_selection import train_test_split"
   ]
  },
  {
   "cell_type": "code",
   "execution_count": 2,
   "id": "average-layer",
   "metadata": {
    "execution": {
     "iopub.execute_input": "2021-06-23T03:20:02.799010Z",
     "iopub.status.busy": "2021-06-23T03:20:02.798496Z",
     "iopub.status.idle": "2021-06-23T03:20:02.802306Z",
     "shell.execute_reply": "2021-06-23T03:20:02.801884Z",
     "shell.execute_reply.started": "2021-06-23T03:14:01.785005Z"
    },
    "papermill": {
     "duration": 0.025735,
     "end_time": "2021-06-23T03:20:02.802414",
     "exception": false,
     "start_time": "2021-06-23T03:20:02.776679",
     "status": "completed"
    },
    "tags": []
   },
   "outputs": [],
   "source": [
    "train_dir = r'E:/other_data/overhead/training' + \"//\"\n",
    "test_dir = r'E:/other_data/overhead/testing' + \"//\""
   ]
  },
  {
   "cell_type": "code",
   "execution_count": 3,
   "id": "alert-garlic",
   "metadata": {
    "execution": {
     "iopub.execute_input": "2021-06-23T03:20:02.852480Z",
     "iopub.status.busy": "2021-06-23T03:20:02.851985Z",
     "iopub.status.idle": "2021-06-23T03:20:02.878300Z",
     "shell.execute_reply": "2021-06-23T03:20:02.877879Z",
     "shell.execute_reply.started": "2021-06-23T03:14:01.800050Z"
    },
    "papermill": {
     "duration": 0.057056,
     "end_time": "2021-06-23T03:20:02.878408",
     "exception": false,
     "start_time": "2021-06-23T03:20:02.821352",
     "status": "completed"
    },
    "tags": []
   },
   "outputs": [
    {
     "data": {
      "text/html": [
       "<div>\n",
       "<style scoped>\n",
       "    .dataframe tbody tr th:only-of-type {\n",
       "        vertical-align: middle;\n",
       "    }\n",
       "\n",
       "    .dataframe tbody tr th {\n",
       "        vertical-align: top;\n",
       "    }\n",
       "\n",
       "    .dataframe thead th {\n",
       "        text-align: right;\n",
       "    }\n",
       "</style>\n",
       "<table border=\"1\" class=\"dataframe\">\n",
       "  <thead>\n",
       "    <tr style=\"text-align: right;\">\n",
       "      <th></th>\n",
       "      <th>class</th>\n",
       "      <th>label</th>\n",
       "      <th>train_count</th>\n",
       "      <th>test_count</th>\n",
       "    </tr>\n",
       "  </thead>\n",
       "  <tbody>\n",
       "    <tr>\n",
       "      <th>0</th>\n",
       "      <td>car</td>\n",
       "      <td>0</td>\n",
       "      <td>888</td>\n",
       "      <td>112</td>\n",
       "    </tr>\n",
       "    <tr>\n",
       "      <th>1</th>\n",
       "      <td>harbor</td>\n",
       "      <td>1</td>\n",
       "      <td>889</td>\n",
       "      <td>111</td>\n",
       "    </tr>\n",
       "    <tr>\n",
       "      <th>2</th>\n",
       "      <td>helicopter</td>\n",
       "      <td>2</td>\n",
       "      <td>655</td>\n",
       "      <td>82</td>\n",
       "    </tr>\n",
       "    <tr>\n",
       "      <th>3</th>\n",
       "      <td>oil_gas_field</td>\n",
       "      <td>3</td>\n",
       "      <td>888</td>\n",
       "      <td>110</td>\n",
       "    </tr>\n",
       "    <tr>\n",
       "      <th>4</th>\n",
       "      <td>parking_lot</td>\n",
       "      <td>4</td>\n",
       "      <td>888</td>\n",
       "      <td>112</td>\n",
       "    </tr>\n",
       "    <tr>\n",
       "      <th>5</th>\n",
       "      <td>plane</td>\n",
       "      <td>5</td>\n",
       "      <td>889</td>\n",
       "      <td>111</td>\n",
       "    </tr>\n",
       "    <tr>\n",
       "      <th>6</th>\n",
       "      <td>runway_mark</td>\n",
       "      <td>6</td>\n",
       "      <td>801</td>\n",
       "      <td>100</td>\n",
       "    </tr>\n",
       "    <tr>\n",
       "      <th>7</th>\n",
       "      <td>ship</td>\n",
       "      <td>7</td>\n",
       "      <td>889</td>\n",
       "      <td>111</td>\n",
       "    </tr>\n",
       "    <tr>\n",
       "      <th>8</th>\n",
       "      <td>stadium</td>\n",
       "      <td>8</td>\n",
       "      <td>843</td>\n",
       "      <td>105</td>\n",
       "    </tr>\n",
       "    <tr>\n",
       "      <th>9</th>\n",
       "      <td>storage_tank</td>\n",
       "      <td>9</td>\n",
       "      <td>889</td>\n",
       "      <td>111</td>\n",
       "    </tr>\n",
       "  </tbody>\n",
       "</table>\n",
       "</div>"
      ],
      "text/plain": [
       "           class  label  train_count  test_count\n",
       "0            car      0          888         112\n",
       "1         harbor      1          889         111\n",
       "2     helicopter      2          655          82\n",
       "3  oil_gas_field      3          888         110\n",
       "4    parking_lot      4          888         112\n",
       "5          plane      5          889         111\n",
       "6    runway_mark      6          801         100\n",
       "7           ship      7          889         111\n",
       "8        stadium      8          843         105\n",
       "9   storage_tank      9          889         111"
      ]
     },
     "execution_count": 3,
     "metadata": {},
     "output_type": "execute_result"
    }
   ],
   "source": [
    "classes=pd.read_csv('E:/other_data/overhead/classes.csv')\n",
    "classes"
   ]
  },
  {
   "cell_type": "code",
   "execution_count": 4,
   "id": "stock-turkish",
   "metadata": {
    "execution": {
     "iopub.execute_input": "2021-06-23T03:20:02.922498Z",
     "iopub.status.busy": "2021-06-23T03:20:02.921925Z",
     "iopub.status.idle": "2021-06-23T03:20:02.925502Z",
     "shell.execute_reply": "2021-06-23T03:20:02.925871Z",
     "shell.execute_reply.started": "2021-06-23T03:14:01.827434Z"
    },
    "papermill": {
     "duration": 0.027919,
     "end_time": "2021-06-23T03:20:02.926035",
     "exception": false,
     "start_time": "2021-06-23T03:20:02.898116",
     "status": "completed"
    },
    "tags": []
   },
   "outputs": [
    {
     "name": "stdout",
     "output_type": "stream",
     "text": [
      "{0: 'car', 1: 'harbor', 2: 'helicopter', 3: 'oil_gas_field', 4: 'parking_lot', 5: 'plane', 6: 'runway_mark', 7: 'ship', 8: 'stadium', 9: 'storage_tank'}\n"
     ]
    }
   ],
   "source": [
    "Name=classes['class']\n",
    "Label=classes['label']\n",
    "\n",
    "file_reverse_mapping=dict(zip(Label,Name)) \n",
    "print(file_reverse_mapping)"
   ]
  },
  {
   "cell_type": "code",
   "execution_count": 5,
   "id": "be8c5de6",
   "metadata": {},
   "outputs": [
    {
     "name": "stdout",
     "output_type": "stream",
     "text": [
      "file_full_path : E:/other_data/overhead/training//car\\00003.jpg\n",
      "(1, 48, 48, 3)\n"
     ]
    }
   ],
   "source": [
    "first_pic_dir = os.path.join(train_dir,Name[0])\n",
    "file_name = os.listdir(first_pic_dir)[0]\n",
    "file_full_path = os.path.join(first_pic_dir,file_name)\n",
    "print(\"file_full_path :\",file_full_path)\n",
    "pb_test_pic=load_img(file_full_path, grayscale=False, color_mode='rgb', target_size=(48,48))\n",
    "pb_test_pic=img_to_array(pb_test_pic)\n",
    "pb_test_pic=pb_test_pic/255.0\n",
    "\n",
    "pb_test_pic = np.array(pb_test_pic)\n",
    "pb_test_pic = pb_test_pic.reshape(tuple([1])+pb_test_pic.shape)\n",
    "print(pb_test_pic.shape)\n"
   ]
  },
  {
   "cell_type": "code",
   "execution_count": 6,
   "id": "ee517648",
   "metadata": {},
   "outputs": [
    {
     "name": "stdout",
     "output_type": "stream",
     "text": [
      "<class 'numpy.ndarray'>\n"
     ]
    }
   ],
   "source": [
    "print(type(pb_test_pic))"
   ]
  },
  {
   "cell_type": "code",
   "execution_count": 7,
   "id": "b5d4db15",
   "metadata": {},
   "outputs": [],
   "source": [
    "# pretrained_model3 = tf.keras.applications.DenseNet201(input_shape=(48,48,3),include_top=False,weights='imagenet',pooling='avg')\n"
   ]
  },
  {
   "cell_type": "code",
   "execution_count": 30,
   "id": "4c4e578f",
   "metadata": {},
   "outputs": [
    {
     "name": "stdout",
     "output_type": "stream",
     "text": [
      "start prepare\n",
      "read pb fininsh\n"
     ]
    },
    {
     "name": "stderr",
     "output_type": "stream",
     "text": [
      "c:\\Users\\Amo\\anaconda3\\lib\\site-packages\\ipykernel_launcher.py:11: RuntimeWarning: Unexpected end-group tag: Not all data was converted\n",
      "  # This is added back by InteractiveShellApp.init_path()\n"
     ]
    }
   ],
   "source": [
    "# 讀取 pb 檔\n",
    "from tensorflow.python.platform import gfile\n",
    "pb_path = \"./overhead_mnist.pb\"\n",
    "graph_def = None\n",
    "# sess = tf.compat.v1.Session(config = tf.compat.v1.ConfigProto()) # 嘗試沒用1\n",
    "with gfile.FastGFile(pb_path, 'rb') as f:\n",
    "    print(\"start prepare\")\n",
    "    # graph_def = tf.get_default_graph().as_graph_def()\n",
    "    # graph_def = tf.GraphDef() # deprecate 換成下面的\n",
    "    graph_def = tf.compat.v1.GraphDef()\n",
    "    graph_def.ParseFromString(f.read())\n",
    "    # sess.graph.as_default() # 嘗試沒用1\n",
    "    print(\"read pb fininsh\")\n",
    "# tf.import_graph_def(graph_def, name='')"
   ]
  },
  {
   "cell_type": "code",
   "execution_count": 31,
   "id": "f27b590a",
   "metadata": {},
   "outputs": [
    {
     "name": "stdout",
     "output_type": "stream",
     "text": [
      "0\n"
     ]
    }
   ],
   "source": [
    "# 想要知道 get_tensor_by_name 到底要填入什麼名稱\n",
    "# 不過不知道為什麼印不出東西來 ?? (現在 read pb 就卡在這裡)\n",
    "# https://blog.csdn.net/PianGe_zyl/article/details/108155349\n",
    "with tf.Graph().as_default() as graph :\n",
    "    tf.import_graph_def(graph_def, name='')\n",
    "    print(len(graph.get_operations()))\n",
    "    for op in graph.get_operations():\n",
    "        print(op.name, op.values())"
   ]
  },
  {
   "cell_type": "code",
   "execution_count": null,
   "id": "a527c905",
   "metadata": {},
   "outputs": [
    {
     "name": "stdout",
     "output_type": "stream",
     "text": [
      "<class 'tensorflow.core.framework.graph_pb2.GraphDef'>\n",
      "['ByteSize', 'Clear', 'ClearExtension', 'ClearField', 'CopyFrom', 'DESCRIPTOR', 'DiscardUnknownFields', 'Extensions', 'FindInitializationErrors', 'FromString', 'HasExtension', 'HasField', 'IsInitialized', 'ListFields', 'MergeFrom', 'MergeFromString', 'ParseFromString', 'RegisterExtension', 'SerializePartialToString', 'SerializeToString', 'SetInParent', 'UnknownFields', 'WhichOneof', '_CheckCalledFromGeneratedFile', '_SetListener', '__class__', '__deepcopy__', '__delattr__', '__dir__', '__doc__', '__eq__', '__format__', '__ge__', '__getattribute__', '__getstate__', '__gt__', '__hash__', '__init__', '__init_subclass__', '__le__', '__lt__', '__module__', '__ne__', '__new__', '__reduce__', '__reduce_ex__', '__repr__', '__setattr__', '__setstate__', '__sizeof__', '__slots__', '__str__', '__subclasshook__', '__unicode__', '_extensions_by_name', '_extensions_by_number', '_tf_api_names', '_tf_api_names_v1', 'library', 'node', 'version', 'versions']\n",
      "\n",
      "{}\n"
     ]
    }
   ],
   "source": [
    "print(type(graph_def))\n",
    "print(dir(graph_def))\n",
    "print(str(graph_def))\n",
    "print(graph_def._extensions_by_name)"
   ]
  },
  {
   "cell_type": "code",
   "execution_count": null,
   "id": "b19f330a",
   "metadata": {},
   "outputs": [
    {
     "name": "stdout",
     "output_type": "stream",
     "text": [
      "Couldn't find classification output layer: x:0.\n",
      "Verify this a model exported from an Object Detection project.\n"
     ]
    }
   ],
   "source": [
    "# These names are part of the model and cannot be changed.\n",
    "output_layer = 'x:0'\n",
    "input_node = 'Placeholder:0'\n",
    "\n",
    "with tf.compat.v1.Session() as sess:\n",
    "    try:\n",
    "        prob_tensor = sess.graph.get_tensor_by_name(output_layer)\n",
    "        predictions = sess.run(prob_tensor, {input_node: [augmented_image] })\n",
    "    except KeyError:\n",
    "        print (\"Couldn't find classification output layer: \" + output_layer + \".\")\n",
    "        print (\"Verify this a model exported from an Object Detection project.\")\n",
    "        exit(-1)"
   ]
  },
  {
   "cell_type": "code",
   "execution_count": null,
   "id": "913cd4d1",
   "metadata": {},
   "outputs": [],
   "source": []
  }
 ],
 "metadata": {
  "kernelspec": {
   "display_name": "Python 3",
   "language": "python",
   "name": "python3"
  },
  "language_info": {
   "codemirror_mode": {
    "name": "ipython",
    "version": 3
   },
   "file_extension": ".py",
   "mimetype": "text/x-python",
   "name": "python",
   "nbconvert_exporter": "python",
   "pygments_lexer": "ipython3",
   "version": "3.7.13"
  },
  "papermill": {
   "default_parameters": {},
   "duration": 280.859545,
   "end_time": "2021-06-23T03:24:31.840792",
   "environment_variables": {},
   "exception": null,
   "input_path": "__notebook__.ipynb",
   "output_path": "__notebook__.ipynb",
   "parameters": {},
   "start_time": "2021-06-23T03:19:50.981247",
   "version": "2.3.3"
  }
 },
 "nbformat": 4,
 "nbformat_minor": 5
}
