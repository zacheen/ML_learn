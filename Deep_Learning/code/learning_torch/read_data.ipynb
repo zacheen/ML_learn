{
 "cells": [
  {
   "cell_type": "code",
   "execution_count": null,
   "id": "3ee5ffbf",
   "metadata": {},
   "outputs": [],
   "source": [
    "import torch\n",
    "import cv2\n",
    "import os\n",
    "import glob\n",
    "from torch.utils.data import Dataset\n",
    "import random"
   ]
  },
  {
   "cell_type": "code",
   "execution_count": null,
   "id": "7faab382",
   "metadata": {},
   "outputs": [],
   "source": [
    "class my_data_Loader(Dataset):\n",
    "    def __init__(self, data_path):\n",
    "        # 初始化函数，读取所有data_path下的图片\n",
    "        self.data_path = data_path\n",
    "        self.imgs_path = glob.glob(os.path.join(data_path, 'image/*.png'))\n",
    " \n",
    "    def augment(self, image, flipCode):\n",
    "        # 使用cv2.flip进行数据增强，filpCode为1水平翻转，0垂直翻转，-1水平+垂直翻转\n",
    "        flip = cv2.flip(image, flipCode)\n",
    "        return flip\n",
    "        \n",
    "    def __getitem__(self, index):\n",
    "        # 根据index读取图片\n",
    "        image_path = self.imgs_path[index]\n",
    "        # 根据image_path生成label_path\n",
    "        label_pos_path = image_path.replace('image', 'label')\n",
    "        label_pos_path = label_pos_path.replace('.png', '*.png')\n",
    "        print(\"label_pos_path :\",label_pos_path)\n",
    "        label_path = glob.glob(label_pos_path)[0]\n",
    "        print(\"image_path :\",image_path)\n",
    "        print(\"label_path :\",label_path)\n",
    "\n",
    "        # 读取训练图片和标签图片\n",
    "        image = cv2.imread(image_path)\n",
    "        label = cv2.imread(label_path)\n",
    "        # 将数据转为单通道的图片\n",
    "        image = cv2.cvtColor(image, cv2.COLOR_BGR2GRAY)\n",
    "        label = cv2.cvtColor(label, cv2.COLOR_BGR2GRAY)\n",
    "        image = image.reshape(1, image.shape[0], image.shape[1])\n",
    "        label = label.reshape(1, label.shape[0], label.shape[1])\n",
    "        # 处理标签，将像素值为255的改为1\n",
    "        if label.max() > 1:\n",
    "            label = label / 255\n",
    "        # 随机进行数据增强，为2时不做处理\n",
    "        # flipCode = random.choice([-1, 0, 1, 2])\n",
    "        # if flipCode != 2:\n",
    "        #     image = self.augment(image, flipCode)\n",
    "        #     label = self.augment(label, flipCode)\n",
    "        return image, label\n",
    " \n",
    "    def __len__(self):\n",
    "        # 返回训练集大小\n",
    "        return len(self.imgs_path)"
   ]
  },
  {
   "cell_type": "code",
   "execution_count": null,
   "id": "d968a250",
   "metadata": {},
   "outputs": [],
   "source": [
    "# 使用方法\n",
    "my_dataset = my_data_Loader(r\"C:\\our_data\\DEJ data\\data\")\n",
    "print(\"data 總數：\", len(my_dataset))\n",
    "train_loader = torch.utils.data.DataLoader(dataset=my_dataset,\n",
    "                                            batch_size=2, \n",
    "                                            shuffle=True)\n",
    "for image, label in train_loader:\n",
    "    print(image.shape)"
   ]
  },
  {
   "cell_type": "code",
   "execution_count": null,
   "id": "276712b2",
   "metadata": {},
   "outputs": [],
   "source": [
    "# 單獨測試 blob\n",
    "finding_file = r\"C:\\our_data\\DEJ data\\data\\label\\20210621_102934B*.png\""
   ]
  }
 ],
 "metadata": {
  "kernelspec": {
   "display_name": "Python 3.7.13 ('pytorch_cpu')",
   "language": "python",
   "name": "python3"
  },
  "language_info": {
   "codemirror_mode": {
    "name": "ipython",
    "version": 3
   },
   "file_extension": ".py",
   "mimetype": "text/x-python",
   "name": "python",
   "nbconvert_exporter": "python",
   "pygments_lexer": "ipython3",
   "version": "3.7.13"
  },
  "vscode": {
   "interpreter": {
    "hash": "8f8969ddbe274ce60ce702c2d151a1feb5bfbd8068634f4d50f57ebbb3fdb0e2"
   }
  }
 },
 "nbformat": 4,
 "nbformat_minor": 5
}
