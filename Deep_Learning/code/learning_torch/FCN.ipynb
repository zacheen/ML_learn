{
 "cells": [
  {
   "cell_type": "code",
   "execution_count": null,
   "id": "3ee5ffbf",
   "metadata": {},
   "outputs": [],
   "source": [
    "import torch\n",
    "import torch.nn as nn\n",
    "import torchvision.models as models\n",
    "import torch.onnx "
   ]
  },
  {
   "cell_type": "code",
   "execution_count": null,
   "id": "4b507abb",
   "metadata": {},
   "outputs": [],
   "source": [
    "model = models.fcn_resnet50(num_classes=50, pretrained=True)\n",
    "\n",
    "print(\"net construct :\", model)"
   ]
  },
  {
   "cell_type": "code",
   "execution_count": null,
   "id": "801c6bcd",
   "metadata": {},
   "outputs": [],
   "source": [
    "# 設定\n",
    "input_size = (1, 480, 360)\n"
   ]
  },
  {
   "cell_type": "code",
   "execution_count": null,
   "id": "5e40b7db",
   "metadata": {},
   "outputs": [],
   "source": [
    "# 測試是否能正常輸出\n",
    "\n",
    "# set the model to inference mode \n",
    "# 不启用 Batch Normalization 和 Dropout (所以在做辨識之前一定要先呼叫這個)\n",
    "# https://cloud.tencent.com/developer/article/1819853\n",
    "model.eval() \n",
    "\n",
    "# Let's create a dummy input tensor  \n",
    "# 這個是為了要讓 model 知道 input 大小是多少\n",
    "dummy_input = torch.randn(1, 3, 480, 360, requires_grad=True)\n",
    "\n",
    "# Export the model   \n",
    "torch.onnx.export(model,         # model being run \n",
    "        dummy_input,       # model input (or a tuple for multiple inputs) \n",
    "        \"densenet201.onnx\",       # where to save the model  \n",
    "        export_params=True,  # store the trained parameter weights inside the model file \n",
    "        opset_version=10,    # the ONNX version to export the model to \n",
    "        do_constant_folding=True,  # whether to execute constant folding for optimization \n",
    "        input_names = ['modelInput'],   # the model's input names \n",
    "        output_names = ['modelOutput'], # the model's output names \n",
    "        dynamic_axes={'modelInput' : {0 : 'batch_size'},    # variable length axes \n",
    "                            'modelOutput' : {0 : 'batch_size'}}) "
   ]
  }
 ],
 "metadata": {
  "kernelspec": {
   "display_name": "Python 3.7.13 ('pytorch_cpu')",
   "language": "python",
   "name": "python3"
  },
  "language_info": {
   "codemirror_mode": {
    "name": "ipython",
    "version": 3
   },
   "file_extension": ".py",
   "mimetype": "text/x-python",
   "name": "python",
   "nbconvert_exporter": "python",
   "pygments_lexer": "ipython3",
   "version": "3.7.13"
  },
  "vscode": {
   "interpreter": {
    "hash": "8f8969ddbe274ce60ce702c2d151a1feb5bfbd8068634f4d50f57ebbb3fdb0e2"
   }
  }
 },
 "nbformat": 4,
 "nbformat_minor": 5
}
