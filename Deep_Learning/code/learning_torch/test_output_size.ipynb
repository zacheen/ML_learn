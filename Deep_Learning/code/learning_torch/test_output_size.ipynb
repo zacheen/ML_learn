{
 "cells": [
  {
   "cell_type": "code",
   "execution_count": null,
   "id": "3ee5ffbf",
   "metadata": {},
   "outputs": [],
   "source": [
    "import torch\n",
    "import torch.nn as nn\n",
    "import torchvision.models as models\n",
    "import torch.onnx \n",
    "\n",
    "from torch.autograd import Variable\n",
    "\n",
    "import numpy as np\n",
    "import matplotlib.pyplot as plt"
   ]
  },
  {
   "cell_type": "code",
   "execution_count": null,
   "id": "7faab382",
   "metadata": {},
   "outputs": [],
   "source": [
    "def show_np(pred):\n",
    "    # 处理结果\n",
    "    pred[pred >= 0.5] = 255\n",
    "    pred[pred < 0.5] = 0\n",
    "    # 保存图片\n",
    "\n",
    "    print(pred.shape)\n",
    "    print(\"mid value :\", pred[100][100])\n",
    "\n",
    "    plt.imshow(pred)\n"
   ]
  },
  {
   "cell_type": "code",
   "execution_count": null,
   "id": "368f88e9",
   "metadata": {},
   "outputs": [],
   "source": [
    "# Conv2d (縮小兩倍範例)\n",
    "in_x = 480\n",
    "in_y = 360\n",
    "in_channel = 5\n",
    "out_channel = 11\n",
    "\n",
    "kernel_size = 5\n",
    "padding = 2\n",
    "# # 如果要輸出大小與輸入大小相同 \n",
    "# padding = (int)((kernel_size-1)/2) # 且 kernel_size 是奇數\n",
    "# print(\"padding :\",padding)\n",
    "\n",
    "stride = 1\n",
    "dilation = 1 #不得為 0 #預設是 1\n",
    "\n",
    "# 輸出大小計算方式\n",
    "print( ((in_x + 2*padding - dilation*(kernel_size-1) -1) / stride) + 1 )\n",
    "\n",
    "x = torch.randn(1, in_channel, in_x, in_y)\n",
    "conv_trans = nn.Conv2d(in_channel, out_channel, kernel_size=(kernel_size, kernel_size), stride=(stride, stride), padding=padding, dilation = dilation)\n",
    "y = conv_trans(Variable(x))\n",
    "print(y.shape)"
   ]
  },
  {
   "cell_type": "code",
   "execution_count": null,
   "id": "36c699b4",
   "metadata": {},
   "outputs": [],
   "source": [
    "# ConvTranspose2d (變大兩倍範例)\n",
    "in_x = 480\n",
    "in_y = 360\n",
    "in_channel = 1\n",
    "\n",
    "out_channel = 1\n",
    "\n",
    "x = torch.randn(1, in_channel, in_x, in_y)\n",
    "show_np(np.array(x.data.cpu()[0])[0])\n",
    "print()\n",
    "# 這兩種都能夠變成兩倍\n",
    "# conv_trans = nn.ConvTranspose2d(in_channel, out_channel, kernel_size=2, stride=2, padding=0)\n",
    "# conv_trans = nn.ConvTranspose2d(in_channel, out_channel, kernel_size=4, stride=2, padding=1)\n",
    "# 這應該才是我想像中的 padding == same\n",
    "# 原本大小(而且是一模一樣 但是每格數值 = aX+b) (如果 a = 1 b = 1 就會完全一樣)\n",
    "conv_trans = nn.ConvTranspose2d(in_channel, out_channel, kernel_size=1, stride=1, padding=0, output_padding=0)\n",
    "# 2 倍\n",
    "# conv_trans = nn.ConvTranspose2d(in_channel, out_channel, kernel_size=3, stride=2, padding=1, output_padding=1)\n",
    "# 3 倍\n",
    "# conv_trans = nn.ConvTranspose2d(in_channel, out_channel, kernel_size=3, stride=3, padding=1, output_padding=2)\n",
    "\n",
    "y = conv_trans(Variable(x))\n",
    "print(y.shape)"
   ]
  },
  {
   "cell_type": "code",
   "execution_count": null,
   "id": "3e4afc52",
   "metadata": {},
   "outputs": [],
   "source": [
    "# 提取结果\n",
    "pred = np.array(y.data.cpu()[0])[0]\n",
    "print(pred.shape)\n",
    "show_np(pred)"
   ]
  },
  {
   "cell_type": "code",
   "execution_count": null,
   "id": "03c34695",
   "metadata": {},
   "outputs": [],
   "source": []
  },
  {
   "cell_type": "code",
   "execution_count": null,
   "id": "f62a5df4",
   "metadata": {},
   "outputs": [],
   "source": [
    "# BatchNorm2d (size 不會變化)\n",
    "in_x = 480\n",
    "in_y = 360\n",
    "in_channel = 5\n",
    "\n",
    "out_channel = 11\n",
    "\n",
    "x = torch.randn(1, in_channel, in_x, in_y)\n",
    "conv_trans = nn.BatchNorm2d(in_channel, eps=1e-05, momentum=0.1, affine=True, track_running_stats=True)\n",
    "y = conv_trans(Variable(x))\n",
    "print(y.shape)"
   ]
  }
 ],
 "metadata": {
  "kernelspec": {
   "display_name": "Python 3.7.13 ('pytorch_cpu')",
   "language": "python",
   "name": "python3"
  },
  "language_info": {
   "codemirror_mode": {
    "name": "ipython",
    "version": 3
   },
   "file_extension": ".py",
   "mimetype": "text/x-python",
   "name": "python",
   "nbconvert_exporter": "python",
   "pygments_lexer": "ipython3",
   "version": "3.7.13"
  },
  "vscode": {
   "interpreter": {
    "hash": "8f8969ddbe274ce60ce702c2d151a1feb5bfbd8068634f4d50f57ebbb3fdb0e2"
   }
  }
 },
 "nbformat": 4,
 "nbformat_minor": 5
}
