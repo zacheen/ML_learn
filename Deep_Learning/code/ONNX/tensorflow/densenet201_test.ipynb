{
 "cells": [
  {
   "cell_type": "code",
   "execution_count": 1,
   "id": "3ee5ffbf",
   "metadata": {},
   "outputs": [
    {
     "name": "stderr",
     "output_type": "stream",
     "text": [
      "Using TensorFlow backend.\n"
     ]
    }
   ],
   "source": [
    "# IMPORT MODULES\n",
    "from keras.callbacks import EarlyStopping, ModelCheckpoint, ReduceLROnPlateau\n",
    "from keras.layers import Input, Dense, GlobalAveragePooling2D\n",
    "from keras.preprocessing.image import ImageDataGenerator\n",
    "from keras.optimizers import Adam\n",
    "import matplotlib.pyplot as plt\n",
    "from keras.models import Model\n"
   ]
  },
  {
   "cell_type": "code",
   "execution_count": 2,
   "id": "7faab382",
   "metadata": {},
   "outputs": [
    {
     "name": "stdout",
     "output_type": "stream",
     "text": [
      "WARNING:tensorflow:From c:\\Users\\Amo\\anaconda3\\lib\\site-packages\\tensorflow_core\\python\\ops\\resource_variable_ops.py:1630: calling BaseResourceVariable.__init__ (from tensorflow.python.ops.resource_variable_ops) with constraint is deprecated and will be removed in a future version.\n",
      "Instructions for updating:\n",
      "If using Keras pass *_constraint arguments to layers.\n"
     ]
    },
    {
     "name": "stdout",
     "output_type": "stream",
     "text": [
      "WARNING:tensorflow:From c:\\Users\\Amo\\anaconda3\\lib\\site-packages\\keras\\backend\\tensorflow_backend.py:4070: The name tf.nn.max_pool is deprecated. Please use tf.nn.max_pool2d instead.\n",
      "\n",
      "WARNING:tensorflow:From c:\\Users\\Amo\\anaconda3\\lib\\site-packages\\keras\\backend\\tensorflow_backend.py:4074: The name tf.nn.avg_pool is deprecated. Please use tf.nn.avg_pool2d instead.\n",
      "\n"
     ]
    }
   ],
   "source": [
    "# -----------------------------1.客製化模型--------------------------------\n",
    "# 載入keras模型(更換輸出圖片尺寸)\n",
    "from keras.applications import DenseNet201\n",
    "model = DenseNet201(include_top=False,\n",
    "                 weights='imagenet',\n",
    "                 input_tensor=Input(shape=(480, 360, 1))\n",
    "                 )\n",
    "\n",
    "# 定義輸出層\n",
    "x = model.output\n",
    "x = GlobalAveragePooling2D()(x)\n",
    "predictions = Dense(360*480, activation='softmax')(x)\n",
    "model = Model(inputs=model.input, outputs=predictions)\n",
    "\n",
    "# 編譯模型\n",
    "model.compile(optimizer=Adam(lr=0.001),\n",
    "              loss='categorical_crossentropy',\n",
    "              metrics=['accuracy'])\n",
    "\n",
    "#######################################################\n",
    "# 目前只有測試到這裡!! 還有儲存模型"
   ]
  },
  {
   "cell_type": "code",
   "execution_count": 5,
   "id": "549d5c52",
   "metadata": {},
   "outputs": [
    {
     "name": "stdout",
     "output_type": "stream",
     "text": [
      "已儲存Densenet201_retrained_v2.pb\n"
     ]
    }
   ],
   "source": [
    "# -----------------------5.儲存模型------------------------\n",
    "# save_model_name = \"Densenet201_retrained_v2.h5\"\n",
    "save_model_name = \"Densenet201_retrained_v2.pb\"\n",
    "# save_model_name = \"Densenet201_retrained_v2.pbtxt\"\n",
    "model.save('./' + save_model_name)\n",
    "print('已儲存'+save_model_name)"
   ]
  },
  {
   "cell_type": "code",
   "execution_count": 6,
   "id": "645c3d50",
   "metadata": {},
   "outputs": [
    {
     "name": "stdout",
     "output_type": "stream",
     "text": [
      "WARNING:tensorflow:From C:\\Users\\Amo\\AppData\\Local\\Temp\\ipykernel_1280\\1044317284.py:2: The name tf.Session is deprecated. Please use tf.compat.v1.Session instead.\n",
      "\n",
      "WARNING:tensorflow:From C:\\Users\\Amo\\AppData\\Local\\Temp\\ipykernel_1280\\1044317284.py:3: The name tf.global_variables_initializer is deprecated. Please use tf.compat.v1.global_variables_initializer instead.\n",
      "\n",
      "WARNING:tensorflow:From C:\\Users\\Amo\\AppData\\Local\\Temp\\ipykernel_1280\\1044317284.py:4: The name tf.local_variables_initializer is deprecated. Please use tf.compat.v1.local_variables_initializer instead.\n",
      "\n",
      "WARNING:tensorflow:From C:\\Users\\Amo\\AppData\\Local\\Temp\\ipykernel_1280\\1044317284.py:7: The name tf.get_default_graph is deprecated. Please use tf.compat.v1.get_default_graph instead.\n",
      "\n",
      "WARNING:tensorflow:From C:\\Users\\Amo\\AppData\\Local\\Temp\\ipykernel_1280\\1044317284.py:7: convert_variables_to_constants (from tensorflow.python.framework.graph_util_impl) is deprecated and will be removed in a future version.\n",
      "Instructions for updating:\n",
      "Use `tf.compat.v1.graph_util.convert_variables_to_constants`\n",
      "WARNING:tensorflow:From c:\\Users\\Amo\\anaconda3\\lib\\site-packages\\tensorflow_core\\python\\framework\\graph_util_impl.py:277: extract_sub_graph (from tensorflow.python.framework.graph_util_impl) is deprecated and will be removed in a future version.\n",
      "Instructions for updating:\n",
      "Use `tf.compat.v1.graph_util.extract_sub_graph`\n"
     ]
    },
    {
     "ename": "AssertionError",
     "evalue": "conv_3/BiasAdd is not in graph",
     "output_type": "error",
     "traceback": [
      "\u001b[1;31m---------------------------------------------------------------------------\u001b[0m",
      "\u001b[1;31mAssertionError\u001b[0m                            Traceback (most recent call last)",
      "\u001b[1;32m~\\AppData\\Local\\Temp\\ipykernel_1280\\1044317284.py\u001b[0m in \u001b[0;36m<module>\u001b[1;34m\u001b[0m\n\u001b[0;32m      5\u001b[0m \u001b[1;33m\u001b[0m\u001b[0m\n\u001b[0;32m      6\u001b[0m     frozen_graph = tf.graph_util.convert_variables_to_constants(\n\u001b[1;32m----> 7\u001b[1;33m         sess, tf.get_default_graph().as_graph_def(), ['conv_3/BiasAdd'])\n\u001b[0m\u001b[0;32m      8\u001b[0m \u001b[1;33m\u001b[0m\u001b[0m\n\u001b[0;32m      9\u001b[0m     \u001b[0mtf\u001b[0m\u001b[1;33m.\u001b[0m\u001b[0mio\u001b[0m\u001b[1;33m.\u001b[0m\u001b[0mwrite_graph\u001b[0m\u001b[1;33m(\u001b[0m\u001b[0mfrozen_graph\u001b[0m\u001b[1;33m,\u001b[0m \u001b[1;34m\"../pb/\"\u001b[0m\u001b[1;33m,\u001b[0m \u001b[1;34m\"frozen_model.pb\"\u001b[0m\u001b[1;33m,\u001b[0m \u001b[0mas_text\u001b[0m\u001b[1;33m=\u001b[0m\u001b[1;32mFalse\u001b[0m\u001b[1;33m)\u001b[0m\u001b[1;33m\u001b[0m\u001b[1;33m\u001b[0m\u001b[0m\n",
      "\u001b[1;32mc:\\Users\\Amo\\anaconda3\\lib\\site-packages\\tensorflow_core\\python\\util\\deprecation.py\u001b[0m in \u001b[0;36mnew_func\u001b[1;34m(*args, **kwargs)\u001b[0m\n\u001b[0;32m    322\u001b[0m               \u001b[1;34m'in a future version'\u001b[0m \u001b[1;32mif\u001b[0m \u001b[0mdate\u001b[0m \u001b[1;32mis\u001b[0m \u001b[1;32mNone\u001b[0m \u001b[1;32melse\u001b[0m \u001b[1;33m(\u001b[0m\u001b[1;34m'after %s'\u001b[0m \u001b[1;33m%\u001b[0m \u001b[0mdate\u001b[0m\u001b[1;33m)\u001b[0m\u001b[1;33m,\u001b[0m\u001b[1;33m\u001b[0m\u001b[1;33m\u001b[0m\u001b[0m\n\u001b[0;32m    323\u001b[0m               instructions)\n\u001b[1;32m--> 324\u001b[1;33m       \u001b[1;32mreturn\u001b[0m \u001b[0mfunc\u001b[0m\u001b[1;33m(\u001b[0m\u001b[1;33m*\u001b[0m\u001b[0margs\u001b[0m\u001b[1;33m,\u001b[0m \u001b[1;33m**\u001b[0m\u001b[0mkwargs\u001b[0m\u001b[1;33m)\u001b[0m\u001b[1;33m\u001b[0m\u001b[1;33m\u001b[0m\u001b[0m\n\u001b[0m\u001b[0;32m    325\u001b[0m     return tf_decorator.make_decorator(\n\u001b[0;32m    326\u001b[0m         \u001b[0mfunc\u001b[0m\u001b[1;33m,\u001b[0m \u001b[0mnew_func\u001b[0m\u001b[1;33m,\u001b[0m \u001b[1;34m'deprecated'\u001b[0m\u001b[1;33m,\u001b[0m\u001b[1;33m\u001b[0m\u001b[1;33m\u001b[0m\u001b[0m\n",
      "\u001b[1;32mc:\\Users\\Amo\\anaconda3\\lib\\site-packages\\tensorflow_core\\python\\framework\\graph_util_impl.py\u001b[0m in \u001b[0;36mconvert_variables_to_constants\u001b[1;34m(sess, input_graph_def, output_node_names, variable_names_whitelist, variable_names_blacklist)\u001b[0m\n\u001b[0;32m    275\u001b[0m   \u001b[1;31m# This graph only includes the nodes needed to evaluate the output nodes, and\u001b[0m\u001b[1;33m\u001b[0m\u001b[1;33m\u001b[0m\u001b[1;33m\u001b[0m\u001b[0m\n\u001b[0;32m    276\u001b[0m   \u001b[1;31m# removes unneeded nodes like those involved in saving and assignment.\u001b[0m\u001b[1;33m\u001b[0m\u001b[1;33m\u001b[0m\u001b[1;33m\u001b[0m\u001b[0m\n\u001b[1;32m--> 277\u001b[1;33m   \u001b[0minference_graph\u001b[0m \u001b[1;33m=\u001b[0m \u001b[0mextract_sub_graph\u001b[0m\u001b[1;33m(\u001b[0m\u001b[0minput_graph_def\u001b[0m\u001b[1;33m,\u001b[0m \u001b[0moutput_node_names\u001b[0m\u001b[1;33m)\u001b[0m\u001b[1;33m\u001b[0m\u001b[1;33m\u001b[0m\u001b[0m\n\u001b[0m\u001b[0;32m    278\u001b[0m \u001b[1;33m\u001b[0m\u001b[0m\n\u001b[0;32m    279\u001b[0m   \u001b[1;31m# Identify the ops in the graph.\u001b[0m\u001b[1;33m\u001b[0m\u001b[1;33m\u001b[0m\u001b[1;33m\u001b[0m\u001b[0m\n",
      "\u001b[1;32mc:\\Users\\Amo\\anaconda3\\lib\\site-packages\\tensorflow_core\\python\\util\\deprecation.py\u001b[0m in \u001b[0;36mnew_func\u001b[1;34m(*args, **kwargs)\u001b[0m\n\u001b[0;32m    322\u001b[0m               \u001b[1;34m'in a future version'\u001b[0m \u001b[1;32mif\u001b[0m \u001b[0mdate\u001b[0m \u001b[1;32mis\u001b[0m \u001b[1;32mNone\u001b[0m \u001b[1;32melse\u001b[0m \u001b[1;33m(\u001b[0m\u001b[1;34m'after %s'\u001b[0m \u001b[1;33m%\u001b[0m \u001b[0mdate\u001b[0m\u001b[1;33m)\u001b[0m\u001b[1;33m,\u001b[0m\u001b[1;33m\u001b[0m\u001b[1;33m\u001b[0m\u001b[0m\n\u001b[0;32m    323\u001b[0m               instructions)\n\u001b[1;32m--> 324\u001b[1;33m       \u001b[1;32mreturn\u001b[0m \u001b[0mfunc\u001b[0m\u001b[1;33m(\u001b[0m\u001b[1;33m*\u001b[0m\u001b[0margs\u001b[0m\u001b[1;33m,\u001b[0m \u001b[1;33m**\u001b[0m\u001b[0mkwargs\u001b[0m\u001b[1;33m)\u001b[0m\u001b[1;33m\u001b[0m\u001b[1;33m\u001b[0m\u001b[0m\n\u001b[0m\u001b[0;32m    325\u001b[0m     return tf_decorator.make_decorator(\n\u001b[0;32m    326\u001b[0m         \u001b[0mfunc\u001b[0m\u001b[1;33m,\u001b[0m \u001b[0mnew_func\u001b[0m\u001b[1;33m,\u001b[0m \u001b[1;34m'deprecated'\u001b[0m\u001b[1;33m,\u001b[0m\u001b[1;33m\u001b[0m\u001b[1;33m\u001b[0m\u001b[0m\n",
      "\u001b[1;32mc:\\Users\\Amo\\anaconda3\\lib\\site-packages\\tensorflow_core\\python\\framework\\graph_util_impl.py\u001b[0m in \u001b[0;36mextract_sub_graph\u001b[1;34m(graph_def, dest_nodes)\u001b[0m\n\u001b[0;32m    195\u001b[0m   name_to_input_name, name_to_node, name_to_seq_num = _extract_graph_summary(\n\u001b[0;32m    196\u001b[0m       graph_def)\n\u001b[1;32m--> 197\u001b[1;33m   \u001b[0m_assert_nodes_are_present\u001b[0m\u001b[1;33m(\u001b[0m\u001b[0mname_to_node\u001b[0m\u001b[1;33m,\u001b[0m \u001b[0mdest_nodes\u001b[0m\u001b[1;33m)\u001b[0m\u001b[1;33m\u001b[0m\u001b[1;33m\u001b[0m\u001b[0m\n\u001b[0m\u001b[0;32m    198\u001b[0m \u001b[1;33m\u001b[0m\u001b[0m\n\u001b[0;32m    199\u001b[0m   \u001b[0mnodes_to_keep\u001b[0m \u001b[1;33m=\u001b[0m \u001b[0m_bfs_for_reachable_nodes\u001b[0m\u001b[1;33m(\u001b[0m\u001b[0mdest_nodes\u001b[0m\u001b[1;33m,\u001b[0m \u001b[0mname_to_input_name\u001b[0m\u001b[1;33m)\u001b[0m\u001b[1;33m\u001b[0m\u001b[1;33m\u001b[0m\u001b[0m\n",
      "\u001b[1;32mc:\\Users\\Amo\\anaconda3\\lib\\site-packages\\tensorflow_core\\python\\framework\\graph_util_impl.py\u001b[0m in \u001b[0;36m_assert_nodes_are_present\u001b[1;34m(name_to_node, nodes)\u001b[0m\n\u001b[0;32m    150\u001b[0m   \u001b[1;34m\"\"\"Assert that nodes are present in the graph.\"\"\"\u001b[0m\u001b[1;33m\u001b[0m\u001b[1;33m\u001b[0m\u001b[0m\n\u001b[0;32m    151\u001b[0m   \u001b[1;32mfor\u001b[0m \u001b[0md\u001b[0m \u001b[1;32min\u001b[0m \u001b[0mnodes\u001b[0m\u001b[1;33m:\u001b[0m\u001b[1;33m\u001b[0m\u001b[1;33m\u001b[0m\u001b[0m\n\u001b[1;32m--> 152\u001b[1;33m     \u001b[1;32massert\u001b[0m \u001b[0md\u001b[0m \u001b[1;32min\u001b[0m \u001b[0mname_to_node\u001b[0m\u001b[1;33m,\u001b[0m \u001b[1;34m\"%s is not in graph\"\u001b[0m \u001b[1;33m%\u001b[0m \u001b[0md\u001b[0m\u001b[1;33m\u001b[0m\u001b[1;33m\u001b[0m\u001b[0m\n\u001b[0m\u001b[0;32m    153\u001b[0m \u001b[1;33m\u001b[0m\u001b[0m\n\u001b[0;32m    154\u001b[0m \u001b[1;33m\u001b[0m\u001b[0m\n",
      "\u001b[1;31mAssertionError\u001b[0m: conv_3/BiasAdd is not in graph"
     ]
    }
   ],
   "source": [
    "import tensorflow as tf\n",
    "with tf.Session() as sess:\n",
    "    sess.run(tf.global_variables_initializer())\n",
    "    sess.run(tf.local_variables_initializer())\n",
    "\n",
    "    frozen_graph = tf.graph_util.convert_variables_to_constants(\n",
    "        sess, tf.get_default_graph().as_graph_def(), ['conv_3/BiasAdd'])\n",
    "\n",
    "    tf.io.write_graph(frozen_graph, \"../pb/\", \"frozen_model.pb\", as_text=False)\n",
    "    tf.io.write_graph(frozen_graph, \"../pb/\", \"frozen_model.pbtxt\", as_text=True)\n",
    "\n",
    "    tf.summary.FileWriter(OUTPUT_PATH, graph=frozen_graph, filename_suffix='_model_value')"
   ]
  },
  {
   "cell_type": "code",
   "execution_count": 7,
   "id": "f2871dc3",
   "metadata": {},
   "outputs": [
    {
     "name": "stdout",
     "output_type": "stream",
     "text": [
      "output_path :  ../ONNX_model/model_1.onnx\n",
      "INFO:tensorflow:Froze 1013 variables.\n",
      "INFO:tensorflow:Converted 1013 variables to const ops.\n",
      "WARNING:tensorflow:From c:\\Users\\Amo\\anaconda3\\lib\\site-packages\\tf2onnx\\tf_loader.py:309: The name tf.tables_initializer is deprecated. Please use tf.compat.v1.tables_initializer instead.\n",
      "\n"
     ]
    },
    {
     "name": "stderr",
     "output_type": "stream",
     "text": [
      "Removing optional input keras_learning_phase that appears to be a keras learning phase parameter. Use --ignore_default to force this into an input.\n",
      "Removing optional input keras_learning_phase that appears to be a keras learning phase parameter. Use --ignore_default to force this into an input.\n"
     ]
    }
   ],
   "source": [
    "# 把 tensorflow 的 model 存成 .onnx 的檔案\n",
    "import tf2onnx\n",
    "\n",
    "spec = (tf.TensorSpec((None, 224, 224, 3), tf.float32, name=\"input\"),)\n",
    "output_path = \"./ONNX_model/\" + model.name + \".onnx\"\n",
    "print(\"output_path : \", output_path)\n",
    "# model 產出在上一層的 ONNX_model 資料夾\n",
    "\n",
    "model_proto, _ = tf2onnx.convert.from_keras(model, input_signature=spec, opset=13, output_path=output_path)\n",
    "output_names = [n.name for n in model_proto.graph.output]"
   ]
  }
 ],
 "metadata": {
  "kernelspec": {
   "display_name": "Python 3.7.13 ('pytorch_cpu')",
   "language": "python",
   "name": "python3"
  },
  "language_info": {
   "codemirror_mode": {
    "name": "ipython",
    "version": 3
   },
   "file_extension": ".py",
   "mimetype": "text/x-python",
   "name": "python",
   "nbconvert_exporter": "python",
   "pygments_lexer": "ipython3",
   "version": "3.7.13"
  },
  "vscode": {
   "interpreter": {
    "hash": "8f8969ddbe274ce60ce702c2d151a1feb5bfbd8068634f4d50f57ebbb3fdb0e2"
   }
  }
 },
 "nbformat": 4,
 "nbformat_minor": 5
}
