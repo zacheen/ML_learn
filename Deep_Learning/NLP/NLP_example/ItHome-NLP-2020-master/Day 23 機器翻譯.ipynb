{
 "cells": [
  {
   "cell_type": "markdown",
   "metadata": {},
   "source": [
    "# Day 23: 機器翻譯"
   ]
  },
  {
   "cell_type": "markdown",
   "metadata": {},
   "source": [
    "今天我們來寫一個簡易版的語音翻譯機。我們會使用三個套件：\n",
    "- [speech_recognition](https://pypi.org/project/SpeechRecognition/)：語音辨識Speech2Text的套件\n",
    "- [googletrans](https://pypi.org/project/googletrans/)：主要的翻譯套件\n",
    "- [pyttsx3](https://pypi.org/project/pyttsx3/)：Text2Speech的套件\n",
    "\n",
    "我們使用的順序非常直觀：讓電腦聽到我們說的話 -> 將人類語言轉換成文字 -> 文字翻譯 -> 將翻譯後的文字轉換成語音播放。\n",
    "注意:\n",
    "* 開發的背景是Mac的OSX，我的pyttsx3是使用apple的語音，Windows或Linux的使用者可以參考網路上的資料來變換語音。\n",
    "* 簡易版開發為英翻中。"
   ]
  },
  {
   "cell_type": "code",
   "execution_count": 1,
   "metadata": {},
   "outputs": [
    {
     "name": "stdout",
     "output_type": "stream",
     "text": [
      "Please speak:\n",
      "You said: hello my name is Daniel\n",
      "Which means 你好我的名字是丹尼爾 in Chinese.\n"
     ]
    }
   ],
   "source": [
    "from googletrans import Translator\n",
    "import speech_recognition as sr\n",
    "import pyttsx3\n",
    "\n",
    "# 初始化翻譯器\n",
    "translator = Translator()\n",
    "\n",
    "# 初始化語音辨識\n",
    "r = sr.Recognizer()\n",
    "\n",
    "# 初始化文字轉語音\n",
    "engine = pyttsx3.init()\n",
    "engine.setProperty('voice', 'com.apple.speech.synthesis.voice.ting-ting')\n",
    "\n",
    "\n",
    "with sr.Microphone() as source:\n",
    "    print(\"Please speak:\")\n",
    "    audio = r.listen(source)\n",
    "    \n",
    "    try:\n",
    "        sentence = r.recognize_google(audio) # 這裡我們使用Google訓練好的語音辨識，Speech Recognition套件中也有其他模型可以用\n",
    "        print(\"You said: {}\".format(sentence))\n",
    "    except:\n",
    "        print(\"Sorry, can't recognize.\")\n",
    "\n",
    "\n",
    "if translator.translate(sentence).src == 'en':\n",
    "    translated_sent = translator.translate(sentence, dest='zh-CN').text\n",
    "    print(\"Which means {} in Chinese.\".format(translator.translate(sentence, dest='zh-TW').text))\n",
    "    engine.say(translated_sent)\n",
    "    engine.runAndWait()\n",
    "else:\n",
    "    print(\"This doesn't sound like English\")\n"
   ]
  },
  {
   "cell_type": "code",
   "execution_count": 22,
   "metadata": {},
   "outputs": [],
   "source": []
  }
 ],
 "metadata": {
  "kernelspec": {
   "display_name": "Python 3",
   "language": "python",
   "name": "python3"
  },
  "language_info": {
   "codemirror_mode": {
    "name": "ipython",
    "version": 3
   },
   "file_extension": ".py",
   "mimetype": "text/x-python",
   "name": "python",
   "nbconvert_exporter": "python",
   "pygments_lexer": "ipython3",
   "version": "3.6.0"
  }
 },
 "nbformat": 4,
 "nbformat_minor": 2
}
