{
 "cells": [
  {
   "cell_type": "code",
   "execution_count": null,
   "id": "7e3080af",
   "metadata": {},
   "outputs": [],
   "source": [
    "import numpy as np\n",
    "import random\n"
   ]
  },
  {
   "cell_type": "code",
   "execution_count": null,
   "id": "97fe0960",
   "metadata": {},
   "outputs": [],
   "source": [
    "# 中值濾波\n",
    "# 此格的數值 會由 kernel_size 範圍內的\"中位數\" 決定\n",
    "kernel_size = 1\n",
    "\n",
    "from scipy.signal import medfilt\n",
    "\n",
    "# 一维中值濾波\n",
    "# x = np.random.randint(1,9,(10)).astype(\"float32\")\n",
    "x = np.array([2, 6, 4, 8, 4, 3, 8, 8, 1, 4,]).astype(\"float32\")\n",
    "print(x)\n",
    "print(medfilt(x,kernel_size))\n",
    "\n",
    "\n",
    "# 二维中值濾波\n",
    "x = np.random.randint(1,1000,(4,4)).astype(\"float32\")\n",
    "print(x)\n",
    "print(medfilt(x,(kernel_size,kernel_size)))\n",
    "\n",
    "# medfilt2d 速度較快 但只支持 int8，float32，float64\n",
    "from scipy.signal import medfilt2d\n",
    "print(medfilt2d(x,(kernel_size,kernel_size)))"
   ]
  },
  {
   "cell_type": "code",
   "execution_count": null,
   "id": "f7330fe7",
   "metadata": {},
   "outputs": [],
   "source": []
  }
 ],
 "metadata": {
  "kernelspec": {
   "display_name": "Python 3 (ipykernel)",
   "language": "python",
   "name": "python3"
  },
  "language_info": {
   "codemirror_mode": {
    "name": "ipython",
    "version": 3
   },
   "file_extension": ".py",
   "mimetype": "text/x-python",
   "name": "python",
   "nbconvert_exporter": "python",
   "pygments_lexer": "ipython3",
   "version": "3.7.13"
  }
 },
 "nbformat": 4,
 "nbformat_minor": 5
}
