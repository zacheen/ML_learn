{
 "cells": [
  {
   "cell_type": "code",
   "execution_count": null,
   "id": "5dc80c4b",
   "metadata": {},
   "outputs": [],
   "source": [
    "# 步驟\n",
    "# 對 XY \n",
    "    # 做高斯模糊\n",
    "    # 把最大與最小1%的數值都推到極值，中間數值等比例擴張，再依照前十層的平均亮度去調整亮度\n",
    "# 對 XZ \n",
    "    # Three Step Pyramid 提升邊界特徵，降躁\n",
    "    # 也有把最小的數值(黑色的部分)都推到極值\n",
    "# 對 XZ 做正規化 (0~1)\n",
    "    # 再推一次極值 1 %\n"
   ]
  },
  {
   "cell_type": "code",
   "execution_count": null,
   "id": "e25fad8e",
   "metadata": {},
   "outputs": [],
   "source": [
    "import tifffile\n",
    "from csbdeep.utils import normalize"
   ]
  },
  {
   "cell_type": "code",
   "execution_count": null,
   "id": "e22c77f2",
   "metadata": {},
   "outputs": [],
   "source": [
    "import numpy as np\n",
    "import matplotlib.pyplot as plt\n",
    "\n",
    "plt.rcParams['figure.figsize'] = (12, 8)"
   ]
  },
  {
   "cell_type": "code",
   "execution_count": null,
   "id": "09783bb0",
   "metadata": {},
   "outputs": [],
   "source": [
    "input_name = r\"C:/our_data/D_20220811/20211124_151257C.bin\"\n",
    "print(input_name)\n",
    "\n",
    "save_process = False\n",
    "print_process = True\n",
    "log_value = False\n",
    "\n",
    "output_name = input_name.replace(\".bin\",\"_norm3D_py.tif\")\n",
    "# output_name = r\"D:/git/our_data/20210308_095750C_normalize_python.tif\"\n",
    "print(output_name)"
   ]
  },
  {
   "cell_type": "code",
   "execution_count": null,
   "id": "b2c22ea2",
   "metadata": {},
   "outputs": [],
   "source": [
    "# 設定 / 備註\n",
    "cut_mid = False #True\n",
    "if cut_mid :\n",
    "    # region 直接在 write_output 裡面的 funtion 設定\n",
    "    output_name = output_name.replace(\".tif\",\"_mid.tif\")\n",
    "\n",
    "human_see = False \n",
    "if human_see :\n",
    "    output_name_human = input_name.replace(\".bin\",\"_human.tif\")\n",
    "\n",
    "print(\"output_name :\",output_name)\n"
   ]
  },
  {
   "cell_type": "code",
   "execution_count": null,
   "id": "f527f144",
   "metadata": {},
   "outputs": [],
   "source": [
    "file_name_count = 1\n",
    "def write_output(pic, name = None):\n",
    "    global file_name_count\n",
    "    global cut_mid\n",
    "    if \"int\" in str(pic.dtype) :\n",
    "        print(\"in write_output do normalize\")\n",
    "        from csbdeep.utils import normalize\n",
    "        pic = normalize(pic, 1, 99.8, axis= (0,1,2) )\n",
    "    global output_name\n",
    "    if name == None :\n",
    "        save_name = output_name.replace(\".tif\",\"_\"+str(file_name_count)+\".tif\")\n",
    "        file_name_count += 1\n",
    "    else :\n",
    "        save_name = output_name.replace(\".tif\",\"_\"+str(name)+\".tif\")\n",
    "    print(\"save name :\", save_name)\n",
    "    if cut_mid :\n",
    "        tifffile.imsave(save_name, pic[:,:500,:500])\n",
    "    else :\n",
    "        tifffile.imsave(save_name, pic)"
   ]
  },
  {
   "cell_type": "code",
   "execution_count": null,
   "id": "e9325476",
   "metadata": {},
   "outputs": [],
   "source": [
    "if \"bin\" in input_name :\n",
    "    f = open(input_name, \"rb\")   # open the bin file\n",
    "    if \"processed\" in input_name :\n",
    "        data_pic = np.fromfile(f, dtype=np.float32, count=-1, offset=0)\n",
    "    else :\n",
    "        data_pic = np.fromfile(f, dtype=np.int32, count=-1, offset=0)\n",
    "    \n",
    "    print(\"do reshape\")\n",
    "    data_pic = data_pic.reshape((-1,1024,1024))"
   ]
  },
  {
   "cell_type": "code",
   "execution_count": null,
   "id": "a8e4377a",
   "metadata": {},
   "outputs": [],
   "source": [
    "# 轉float\n",
    "data_pic = data_pic.astype(\"float32\")"
   ]
  },
  {
   "cell_type": "code",
   "execution_count": null,
   "id": "cbdc0d10",
   "metadata": {},
   "outputs": [],
   "source": [
    "if log_value :\n",
    "    # 確認\n",
    "    print(data_pic.shape)\n",
    "    print(data_pic.dtype)\n",
    "    print(data_pic[100])\n",
    "\n",
    "if print_process :\n",
    "    plt.imshow(data_pic[100], cmap='gray')"
   ]
  },
  {
   "cell_type": "code",
   "execution_count": null,
   "id": "248d8afc",
   "metadata": {},
   "outputs": [],
   "source": [
    "# tag 0 XY 前處理 (高斯模糊)\n",
    "# 對 XY 做高斯模糊\n",
    "from scipy.ndimage import gaussian_filter\n",
    "sigma = 1\n",
    "Image_Stack_Blur = np.array([\n",
    "    gaussian_filter(data_pic[i], sigma=sigma, mode = 'nearest', truncate = np.ceil(2*sigma)/sigma )  # imgaussfilt\n",
    "        for i in range(data_pic.shape[0])])\n",
    "\n",
    "# 3D 一起做效果應該會比較好 ??\n",
    "# Image_Stack_Blur = gaussian_filter(data_pic, sigma=sigma, mode = 'nearest',truncate=np.ceil(2*sigma)/sigma)"
   ]
  },
  {
   "cell_type": "code",
   "execution_count": null,
   "id": "6a4b0321",
   "metadata": {},
   "outputs": [],
   "source": [
    "if log_value :\n",
    "    # 確認\n",
    "    print(Image_Stack_Blur.shape)\n",
    "    print(Image_Stack_Blur.dtype)\n",
    "    print(Image_Stack_Blur[100])\n",
    "\n",
    "if print_process :\n",
    "    plt.imshow(Image_Stack_Blur[100], cmap='gray')\n",
    "    \n",
    "if save_process :\n",
    "    write_output(Image_Stack_Blur, name = \"gaussian_filter\")"
   ]
  },
  {
   "cell_type": "code",
   "execution_count": null,
   "id": "ce744840",
   "metadata": {},
   "outputs": [],
   "source": [
    "# print(Image_Stack_Blur[:,:,300])\n",
    "# plt.imshow(Image_Stack_Blur[:,:,300], cmap='gray')"
   ]
  },
  {
   "cell_type": "code",
   "execution_count": null,
   "id": "a9ced680",
   "metadata": {},
   "outputs": [],
   "source": [
    "# tag 1 XY 前處理 (參數)\n",
    "Adj1_A=1\n",
    "Adj2_A=1\n",
    "Buffer_Length=10\n",
    "Cmin_Buffer_Array=np.zeros(Buffer_Length)\n",
    "Cmax_Buffer_Array=np.zeros(Buffer_Length)"
   ]
  },
  {
   "cell_type": "code",
   "execution_count": null,
   "id": "c1a2953b",
   "metadata": {},
   "outputs": [],
   "source": [
    "Image_Stack_Blur_AHist_Corr = np.zeros( shape = data_pic.shape , dtype=data_pic.dtype ) \n",
    "# tag 2 XY 前處理\n",
    "# 把前後1%的數值都推到極值，中間數值等比例擴張，再依照前十層的平均亮度去調整亮度\n",
    "# 詳細作法\n",
    "    # 從中間的範圍找出 前後1%的值(Cmin Cmax)\n",
    "    # 會先把數值調整到 接近0~1之間(因為是Cmin所以會超出) \n",
    "        # ((Current_XY_Image - Cmin_Now)/(Cmax_Now - Cmin_Now))\n",
    "    # 超出的就強制設定成 0 或 1\n",
    "    # 再計算前10張的亮度的數值 反向還原 (Image_Temp*(Cmax_Buffered-Cmin_Buffered)+Cmin_Buffered)\n",
    "\n",
    "# Cmin_Buffered 應該要用原圖的數值 還是 調整後的數值 ?? (不過影響應該不大)\n",
    "\n",
    "for p in range(data_pic.shape[0]):\n",
    "    Current_XY_Image = Image_Stack_Blur[p]\n",
    "    ROI_Image = Current_XY_Image[49:-50,49:-50]  # index 問題\n",
    "    # print(ROI_Image.shape)\n",
    "    # 變成一維才能sort\n",
    "    ROI_Image = ROI_Image.flatten()\n",
    "    Sort_ascend = np.sort(ROI_Image)\n",
    "    # 如果要優化應該要用 heap ?\n",
    "\n",
    "    get_place = round(len(Sort_ascend)*Adj1_A/100.0)-1  # index 問題\n",
    "\n",
    "    Cmin_Now = Sort_ascend[get_place]\n",
    "    Cmax_Now = Sort_ascend[-get_place + 1]\n",
    "\n",
    "    Cmin_Buffer_Array[p%Buffer_Length] = Cmin_Now\n",
    "    Cmax_Buffer_Array[p%Buffer_Length] = Cmax_Now\n",
    "\n",
    "    Cmin_Buffered = np.mean(Cmin_Buffer_Array[np.nonzero(Cmin_Buffer_Array)])\n",
    "    Cmax_Buffered = np.mean(Cmax_Buffer_Array[np.nonzero(Cmax_Buffer_Array)])\n",
    "\n",
    "    Image_Temp=(Current_XY_Image - Cmin_Now)/(Cmax_Now - Cmin_Now) \n",
    "    # Image_Temp 在接近 0~1 之間(會小於0 大於1)\n",
    "    Image_Adjed = Image_Temp*(Cmax_Buffered-Cmin_Buffered)+Cmin_Buffered\n",
    "    # 前10張的亮度的平均數值 使用上面那一行相反的運算方式還原回去\n",
    "    Image_Adjed = np.clip(Image_Adjed, a_min = 0, a_max=None)\n",
    "\n",
    "    Image_Stack_Blur_AHist_Corr[p] = Image_Adjed\n"
   ]
  },
  {
   "cell_type": "code",
   "execution_count": null,
   "id": "e26196cd",
   "metadata": {},
   "outputs": [],
   "source": [
    "if log_value :\n",
    "    # 確認\n",
    "    print(Image_Stack_Blur_AHist_Corr.shape)\n",
    "    print(Image_Stack_Blur_AHist_Corr.dtype)\n",
    "    print(Image_Stack_Blur_AHist_Corr[100])\n",
    "\n",
    "if print_process :\n",
    "    plt.imshow(Image_Stack_Blur_AHist_Corr[100], cmap='gray')\n",
    "\n",
    "if save_process :\n",
    "    write_output(Image_Stack_Blur_AHist_Corr, \"extreme\")"
   ]
  },
  {
   "cell_type": "code",
   "execution_count": null,
   "id": "e752d1b0",
   "metadata": {},
   "outputs": [],
   "source": [
    "# tag 4.0 XZ 前處理(參數)\n",
    " \n",
    "# Median_1=1\n",
    "# Median_2=1\n",
    "Blur_1=5\n",
    "Blur_2=20\n",
    "Exp_1=1\n",
    "Exp_2=1.5\n",
    "Exp_3=0.45"
   ]
  },
  {
   "cell_type": "code",
   "execution_count": null,
   "id": "55f1c3c8",
   "metadata": {},
   "outputs": [],
   "source": [
    "# 這裡開始對 XZ plane 做處理\n",
    "from math import log\n",
    "\n",
    "Processed_B_Stack = np.zeros( shape = data_pic.shape , dtype=data_pic.dtype ) \n",
    "# tag 3 XZ 前處理\n",
    "for p in range(Image_Stack_Blur_AHist_Corr.shape[2]):\n",
    "    Image_XZ_Original = Image_Stack_Blur_AHist_Corr[:,p,:]\n",
    "    # Image_Log = Image_XZ_Original\n",
    "    Image_Log = np.log(Image_XZ_Original)\n",
    "    Image_Log = np.where( Image_Log == -np.inf, np.nan, Image_Log ) # 因為 log(0) 會是負無限大 保險起見把這些值去除\n",
    "    Image_Log_flat = Image_Log.flatten() \n",
    "    Image_Log_Sort_1D = np.sort(Image_Log_flat)\n",
    "    Image_Log_Sort_1D_front = Image_Log_Sort_1D[0:round(Image_Log_Sort_1D.shape[0]/10.0)-1]\n",
    "    # Min_by_Sort : 前 10 % 數值的平均 # 可以想成 Cmin\n",
    "    Min_by_Sort = np.nanmean(Image_Log_Sort_1D_front)\n",
    "    Image_Log = Image_Log - Min_by_Sort\n",
    "    Image_Log = np.where( Image_Log == np.nan, 0, Image_Log)\n",
    "    Image_Log = np.clip(Image_Log, a_min = 0.0000001, a_max=None)\n",
    "\n",
    "    # tag 4 XZ  log 完後 模糊處理\n",
    "    Image_Blur_1 = gaussian_filter(Image_Log, sigma = Blur_1, mode = 'nearest', truncate = np.ceil(2*Blur_1)/Blur_1)\n",
    "    Image_Blur_2 = gaussian_filter(Image_Log, sigma = Blur_2, mode = 'nearest', truncate = np.ceil(2*Blur_2)/Blur_2)\n",
    "\n",
    "    from scipy.signal import medfilt2d  # 中值濾波 \n",
    "    \n",
    "    # Three Step Pyramid\n",
    "    # 1st: high resolution \n",
    "    # 2nd: mid resolution that we care\n",
    "    # 3rd: low resolution \n",
    "    # 將深處低解析度之訊號強化(band 1)\n",
    "    # 不過度影響淺層高解析度影像之對比(band 2)\n",
    "    # 且不將高頻speckle noise放大(band 3)\n",
    "    # http://persci.mit.edu/pub_pdfs/RCA84.pdf (37頁右邊)\n",
    "\n",
    "    Image_1st_Backup = Image_Log-Image_Blur_1 # 邊緣的資訊\n",
    "    # Image_1st_Backup = medfilt2d(Image_1st_Backup,(Median_1, Median_1))\n",
    "    Image_1st = Image_1st_Backup**Exp_1\n",
    "    Image_1st = (Image_1st/np.max(Image_1st))*np.max(Image_1st_Backup)\n",
    "\n",
    "    # print(\"np.min(Image_Blur_2)\", np.min(Image_Blur_2))\n",
    "    Image_2nd_Backup = Image_Blur_1 / Image_Blur_2  \n",
    "    # Image_2nd_Backup = medfilt2d(Image_2nd_Backup,(Median_2, Median_2))\n",
    "    Image_2nd = Image_2nd_Backup**Exp_2\n",
    "    Image_2nd = (Image_2nd/np.max(Image_2nd))*np.max(Image_2nd_Backup)\n",
    "\n",
    "    Image_3rd_Backup = Image_Blur_2\n",
    "    Image_3rd = Image_3rd_Backup**Exp_3\n",
    "    Image_3rd = (Image_3rd / np.max(Image_3rd)) * np.max(Image_3rd_Backup)\n",
    "\n",
    "    Image_Rec = Image_3rd * Image_2nd + Image_1st    # *Image_1st\n",
    "\n",
    "    Processed_B_Stack[:,p,:]=Image_Rec"
   ]
  },
  {
   "cell_type": "code",
   "execution_count": null,
   "id": "44af8d98",
   "metadata": {},
   "outputs": [],
   "source": [
    "if log_value :\n",
    "    print(\"Image_1st\")\n",
    "    print(Image_1st)\n",
    "    print(\"Image_2nd\")\n",
    "    print(Image_2nd)\n",
    "    print(\"Image_3rd\")\n",
    "    print(Image_3rd)"
   ]
  },
  {
   "cell_type": "code",
   "execution_count": null,
   "id": "620284d7",
   "metadata": {},
   "outputs": [],
   "source": [
    "if log_value :\n",
    "    # 確認\n",
    "    print(Processed_B_Stack.shape)\n",
    "    print(Processed_B_Stack.dtype)\n",
    "    print(Processed_B_Stack[100])\n",
    "\n",
    "if print_process :\n",
    "    plt.imshow(Processed_B_Stack[100], cmap='gray')\n",
    "\n",
    "if save_process :\n",
    "    write_output(Processed_B_Stack,\"Processed_B_Stack\")"
   ]
  },
  {
   "cell_type": "code",
   "execution_count": null,
   "id": "021baa54",
   "metadata": {},
   "outputs": [],
   "source": [
    "# tag 5 最後處理，輸出\n",
    "\n",
    "# 把數值調整到 0~1 之間 (超過的數值會調整)\n",
    "Adj1=1 \n",
    "Adj2=1 #0.3"
   ]
  },
  {
   "cell_type": "code",
   "execution_count": null,
   "id": "0c08598b",
   "metadata": {},
   "outputs": [],
   "source": [
    "Processed_B_Stack = Image_Stack_Blur_AHist_Corr\n",
    "Histogram_Corr_Image_Stack = Processed_B_Stack.copy()\n",
    "# 還是對 XZ, 做正規化 \n",
    "for p in range(Processed_B_Stack.shape[1]):\n",
    "    Current_Image = Processed_B_Stack[:,p,:]\n",
    "    ROI_Image=Current_Image[29:,99:925]\n",
    "    ROI_Image = ROI_Image.flatten()\n",
    "    Sort_ascend = np.sort(ROI_Image)\n",
    "    get_place = round(len(Sort_ascend)*Adj1/100.0)-1 # Cmin 的位置 是 Adj1 %\n",
    "    Cmin = Sort_ascend[get_place]\n",
    "    Cmax = Sort_ascend[ -get_place + 1 ]*1.15 \n",
    "    # 這裡 Cmax 有點尷尬 如果不*1.15 Image_Norm會有值到 1.5 左右\n",
    "    # 因為Cmin跟Cmax都很大而且很接近 所以如果Cmax*1.15分母會突然變得很大\n",
    "\n",
    "    Image_Norm=(Current_Image-Cmin) / (Cmax-Cmin)\n",
    "    if log_value and p % 10 == 0:\n",
    "        print(p, Cmax, Cmin)\n",
    "        print(p, np.max(Image_Norm))\n",
    "    Image_Norm = np.clip(Image_Norm, a_min = 0, a_max=1)\n",
    "    Histogram_Corr_Image_Stack[:,p,:] = Image_Norm"
   ]
  },
  {
   "cell_type": "code",
   "execution_count": null,
   "id": "b9018295",
   "metadata": {},
   "outputs": [],
   "source": [
    "# 看一下最終結果\n",
    "plt.imshow(Histogram_Corr_Image_Stack[100], cmap='gray')"
   ]
  },
  {
   "cell_type": "markdown",
   "id": "4b512c47",
   "metadata": {},
   "source": []
  },
  {
   "cell_type": "code",
   "execution_count": null,
   "id": "290d3703",
   "metadata": {},
   "outputs": [],
   "source": [
    "write_output(Histogram_Corr_Image_Stack)"
   ]
  },
  {
   "cell_type": "code",
   "execution_count": null,
   "id": "934e6206",
   "metadata": {},
   "outputs": [],
   "source": [
    "if human_see :\n",
    "    human_result = np.zeros( shape = data_pic.shape , dtype=data_pic.dtype )\n",
    "    for p in range(Histogram_Corr_Image_Stack.shape[0]):\n",
    "        Current_XY_Image = Histogram_Corr_Image_Stack[p]\n",
    "        Cmin = np.min(Current_XY_Image)\n",
    "        Cmax = np.max(Current_XY_Image)\n",
    "        human_result[p]=(Current_XY_Image - Cmin)/(Cmax - Cmin)"
   ]
  },
  {
   "cell_type": "code",
   "execution_count": null,
   "id": "08520495",
   "metadata": {},
   "outputs": [],
   "source": [
    "if print_process :\n",
    "    plt.imshow(human_result[100], cmap='gray')"
   ]
  },
  {
   "cell_type": "code",
   "execution_count": null,
   "id": "45a563fd",
   "metadata": {},
   "outputs": [],
   "source": [
    "if human_see :\n",
    "    write_output(human_result, \"human_see\")"
   ]
  }
 ],
 "metadata": {
  "kernelspec": {
   "display_name": "Python 3 (ipykernel)",
   "language": "python",
   "name": "python3"
  },
  "language_info": {
   "codemirror_mode": {
    "name": "ipython",
    "version": 3
   },
   "file_extension": ".py",
   "mimetype": "text/x-python",
   "name": "python",
   "nbconvert_exporter": "python",
   "pygments_lexer": "ipython3",
   "version": "3.7.13"
  },
  "vscode": {
   "interpreter": {
    "hash": "1ad7bc37b9dbb5fc630683fa6ac3f4a09f3b221e501e9b7b281182d1132c149f"
   }
  }
 },
 "nbformat": 4,
 "nbformat_minor": 5
}
