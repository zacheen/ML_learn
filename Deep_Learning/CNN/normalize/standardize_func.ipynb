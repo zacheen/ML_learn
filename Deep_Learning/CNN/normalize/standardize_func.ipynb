{
 "cells": [
  {
   "cell_type": "code",
   "execution_count": null,
   "id": "7e3080af",
   "metadata": {},
   "outputs": [],
   "source": [
    "import numpy as np\n",
    "import random\n"
   ]
  },
  {
   "cell_type": "code",
   "execution_count": null,
   "id": "d4586aa2",
   "metadata": {},
   "outputs": [],
   "source": [
    "# 高斯模糊\n",
    "# 根據周圍的值做模糊\n",
    "# 愈接近此格的值 權重愈大\n",
    "\n",
    "# 參數\n",
    "    # sigma 愈大愈模糊\n",
    "    # truncate 計算範圍\n",
    "        # default : 4.0\n",
    "            # matlab 對應的預設是 : np.ceil(2*sigma)/sigma\n",
    "    # mode 邊界要怎麼處理\n",
    "        # default : \"reflect\"\n",
    "            # matlab 對應的預設是 nearest\n",
    "\n",
    "# matlab 參數對照\n",
    "    # Padding  == mode\n",
    "        # default : replicate\n",
    "from scipy.ndimage import gaussian_filter\n",
    "pic = [\n",
    "    [1,1,1,1,1],\n",
    "    [1,2,2,2,1],\n",
    "    [1,2,3,2,1],\n",
    "    [1,2,2,2,1],\n",
    "    [1,1,1,1,1]\n",
    "]\n",
    "pic = np.array(pic).astype(\"float32\")\n",
    "\n",
    "result = gaussian_filter(pic, sigma=1, mode = 'nearest',truncate=2.0)\n",
    "print(\"original\")\n",
    "print(result)\n",
    "\n",
    "# truncate 改成 1.0 (因為外圍數值較小 所以看的範圍比較小之後 最中間的值會比較大)\n",
    "result = gaussian_filter(pic, sigma=1, mode = 'nearest',truncate=1.0)\n",
    "print(\"truncate = 1.0\")\n",
    "print(result)\n",
    "\n",
    "\n",
    "\n",
    "\n"
   ]
  },
  {
   "cell_type": "code",
   "execution_count": null,
   "id": "97fe0960",
   "metadata": {},
   "outputs": [],
   "source": [
    "# 中值濾波\n",
    "# 此格的數值 會由 kernel_size 範圍內的\"中位數\" 決定\n",
    "kernel_size = 1\n",
    "\n",
    "from scipy.signal import medfilt\n",
    "\n",
    "# 一维中值濾波\n",
    "# x = np.random.randint(1,9,(10)).astype(\"float32\")\n",
    "x = np.array([2, 6, 4, 8, 4, 3, 8, 8, 1, 4,]).astype(\"float32\")\n",
    "print(x)\n",
    "print(medfilt(x,kernel_size))\n",
    "\n",
    "\n",
    "# 二维中值濾波\n",
    "x = np.random.randint(1,1000,(4,4)).astype(\"float32\")\n",
    "print(x)\n",
    "print(medfilt(x,(kernel_size,kernel_size)))\n",
    "\n",
    "# medfilt2d 速度較快 但只支持 int8，float32，float64\n",
    "from scipy.signal import medfilt2d\n",
    "print(medfilt2d(x,(kernel_size,kernel_size)))"
   ]
  },
  {
   "cell_type": "code",
   "execution_count": null,
   "id": "f7330fe7",
   "metadata": {},
   "outputs": [],
   "source": []
  }
 ],
 "metadata": {
  "kernelspec": {
   "display_name": "Python 3.7.13 ('base')",
   "language": "python",
   "name": "python3"
  },
  "language_info": {
   "codemirror_mode": {
    "name": "ipython",
    "version": 3
   },
   "file_extension": ".py",
   "mimetype": "text/x-python",
   "name": "python",
   "nbconvert_exporter": "python",
   "pygments_lexer": "ipython3",
   "version": "3.7.13"
  },
  "vscode": {
   "interpreter": {
    "hash": "1ad7bc37b9dbb5fc630683fa6ac3f4a09f3b221e501e9b7b281182d1132c149f"
   }
  }
 },
 "nbformat": 4,
 "nbformat_minor": 5
}
