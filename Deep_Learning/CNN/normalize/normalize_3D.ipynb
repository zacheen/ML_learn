{
 "cells": [
  {
   "cell_type": "code",
   "execution_count": null,
   "id": "e25fad8e",
   "metadata": {},
   "outputs": [],
   "source": [
    "import tifffile\n",
    "from csbdeep.utils import normalize"
   ]
  },
  {
   "cell_type": "code",
   "execution_count": null,
   "id": "e22c77f2",
   "metadata": {},
   "outputs": [],
   "source": [
    "import numpy as np\n",
    "import matplotlib.pyplot as plt\n",
    "\n",
    "plt.rcParams['figure.figsize'] = (12, 8)"
   ]
  },
  {
   "cell_type": "code",
   "execution_count": null,
   "id": "09783bb0",
   "metadata": {},
   "outputs": [],
   "source": [
    "# input_name = r\"D:/git/our_data/demo/20210929_171808C.bin\"\n",
    "input_name = r\"D:/git/our_data/20210325_144131C.bin\"\n",
    "print_process = False\n",
    "debug_print = False\n",
    "debug_matlab_print = True\n",
    "print(input_name)\n",
    "output_name = input_name.replace(\".bin\",\"_normalize_test.tif\")\n",
    "# output_name = r\"D:/git/our_data/20210308_095750C_processed.tif\"\n",
    "print(output_name)"
   ]
  },
  {
   "cell_type": "code",
   "execution_count": null,
   "id": "f527f144",
   "metadata": {},
   "outputs": [],
   "source": [
    "test_count = 1\n",
    "def write_output(pic, name = None):\n",
    "    global test_count\n",
    "    if \"int\" in str(pic.dtype) :\n",
    "        print(\"in write_output do normalize\")\n",
    "        from csbdeep.utils import normalize\n",
    "        pic = normalize(pic, 1,99.8, axis= (0,1,2) )\n",
    "    global output_name\n",
    "    if name == None :\n",
    "        save_name = output_name.replace(\".tif\",\"_\"+str(test_count)+\".tif\")\n",
    "        test_count += 1\n",
    "    else :\n",
    "        save_name = output_name.replace(\".tif\",\"_\"+str(name)+\".tif\")\n",
    "    print(\"save name :\", save_name)\n",
    "    tifffile.imsave(save_name, pic)"
   ]
  },
  {
   "cell_type": "code",
   "execution_count": null,
   "id": "e9325476",
   "metadata": {},
   "outputs": [],
   "source": [
    "if \"bin\" in input_name :\n",
    "    f = open(input_name, \"rb\")   # Trying to open the bin file\n",
    "    if \"processed\" in input_name :\n",
    "        data_pic = np.fromfile(f, dtype=np.float32, count=-1, offset=0)\n",
    "    else :\n",
    "        data_pic = np.fromfile(f, dtype=np.int32, count=-1, offset=0)\n",
    "    \n",
    "    print(\"do reshape\")\n",
    "    data_pic = data_pic.reshape((-1,1024,1024))   # 看起來是不用 (-1,1024,1024,1)\n",
    "    \n",
    "    "
   ]
  },
  {
   "cell_type": "code",
   "execution_count": null,
   "id": "a8e4377a",
   "metadata": {},
   "outputs": [],
   "source": [
    "# 好像一開始就要轉 float\n",
    "data_pic = data_pic.astype(\"float32\")"
   ]
  },
  {
   "cell_type": "code",
   "execution_count": null,
   "id": "cbdc0d10",
   "metadata": {},
   "outputs": [],
   "source": [
    "if debug_print :\n",
    "    # 確認\n",
    "    print(data_pic.shape)\n",
    "    print(data_pic.dtype)\n",
    "    plt.imshow(data_pic[100], cmap='gray')\n",
    "    print(data_pic[100])"
   ]
  },
  {
   "cell_type": "code",
   "execution_count": null,
   "id": "248d8afc",
   "metadata": {},
   "outputs": [],
   "source": [
    "# tag 0 XY 前處理 (高斯模糊)\n",
    "from scipy.ndimage import gaussian_filter\n",
    "sigma=1\n",
    "Image_Stack_Blur = np.array([\n",
    "    gaussian_filter(data_pic[i], sigma=sigma, mode = 'nearest', truncate = np.ceil(2*sigma)/sigma )  # imgaussfilt\n",
    "        for i in range(data_pic.shape[0])])\n",
    "\n",
    "# 我是覺得 3D 一起做效果應該會比較好\n",
    "# Image_Stack_Blur = gaussian_filter(data_pic, sigma=1,mode = 'nearest',truncate=2.0)"
   ]
  },
  {
   "cell_type": "code",
   "execution_count": null,
   "id": "6a4b0321",
   "metadata": {},
   "outputs": [],
   "source": [
    "if debug_print :\n",
    "    # 確認\n",
    "    print(Image_Stack_Blur.shape)\n",
    "    print(Image_Stack_Blur.dtype)\n",
    "    plt.imshow(Image_Stack_Blur[100], cmap='gray')\n",
    "    print(Image_Stack_Blur[100])\n",
    "\n",
    "    if print_process :\n",
    "        write_output(Image_Stack_Blur, name = \"Image_Stack_Blur\")"
   ]
  },
  {
   "cell_type": "code",
   "execution_count": null,
   "id": "ce744840",
   "metadata": {},
   "outputs": [],
   "source": [
    "# print(Image_Stack_Blur[:,:,300])\n",
    "# plt.imshow(Image_Stack_Blur[:,:,300], cmap='gray')"
   ]
  },
  {
   "cell_type": "code",
   "execution_count": null,
   "id": "a9ced680",
   "metadata": {},
   "outputs": [],
   "source": [
    "# tag 1 XY 前處理 (參數)\n",
    "Adj1_A=1\n",
    "Adj2_A=1\n",
    "Buffer_Length=10\n",
    "Cmin_Buffer_Array=np.zeros(Buffer_Length)\n",
    "Cmax_Buffer_Array=np.zeros(Buffer_Length)"
   ]
  },
  {
   "cell_type": "code",
   "execution_count": null,
   "id": "c1a2953b",
   "metadata": {},
   "outputs": [],
   "source": [
    "Image_Stack_Blur_AHist_Corr = np.zeros( shape = data_pic.shape , dtype=data_pic.dtype ) \n",
    "# tag 2 XY 前處理 (根據前10張的亮度 進行亮度調整)\n",
    "# 會先把數值調整到 接近0~1 之間 ((Current_XY_Image - Cmin_Now)/(Cmax_Now - Cmin_Now))\n",
    "# 再計算前10張的亮度的數值 反向還原 (Image_Temp*(Cmax_Buffered-Cmin_Buffered)+Cmin_Buffered)\n",
    "\n",
    "# 會有分界問題 ?? \n",
    "    # 分界會變得比較不明顯\n",
    "\n",
    "# Cmin_Buffered 應該要用原圖的數值 還是 調整後的數值 ?? (不過影響應該不大)\n",
    "\n",
    "for p in range(data_pic.shape[0]):\n",
    "# for p in range(1):\n",
    "    Current_XY_Image = Image_Stack_Blur[p]\n",
    "    # print(Current_XY_Image.shape)\n",
    "    ROI_Image = Current_XY_Image[49:-50,49:-50]  # index 問題\n",
    "    # print(ROI_Image.shape)\n",
    "    # 變成一維才能sort\n",
    "    ROI_Image = ROI_Image.flatten()\n",
    "    # print(\"len ROI_Image : \",len(ROI_Image))\n",
    "    \n",
    "    Sort_ascend = np.sort(ROI_Image)\n",
    "    # print(\"Sort_ascend :\",Sort_ascend)\n",
    "    # Sort_descend = np.sort(ROI_Image)\n",
    "    # print(\"Sort_ascend min :\", Sort_ascend[0])\n",
    "    # print(\"Sort_ascend max :\", Sort_ascend[-1])\n",
    "\n",
    "    get_place = round(len(Sort_ascend)*Adj1_A/100.0)-1  # index 問題\n",
    "    \n",
    "\n",
    "    Cmin_Now = Sort_ascend[get_place]\n",
    "    Cmax_Now = Sort_ascend[-get_place + 1]  # 是不是這裡出問題\n",
    "    # if p in [98,99,100,101,102] :\n",
    "    #     print(\"now p : \",p)\n",
    "    #     print(\"Cmin_Now :\", Cmin_Now)\n",
    "    #     print(\"Cmax_Now :\", Cmax_Now)\n",
    "    #     print(\"get_place :\",get_place)\n",
    "\n",
    "    Cmin_Buffer_Array[p%Buffer_Length] = Cmin_Now\n",
    "    Cmax_Buffer_Array[p%Buffer_Length] = Cmax_Now\n",
    "\n",
    "    Cmin_Buffered = np.mean(Cmin_Buffer_Array[np.nonzero(Cmin_Buffer_Array)])\n",
    "    Cmax_Buffered = np.mean(Cmax_Buffer_Array[np.nonzero(Cmax_Buffer_Array)])\n",
    "\n",
    "    Image_Temp=(Current_XY_Image - Cmin_Now)/(Cmax_Now - Cmin_Now) \n",
    "    # Image_Temp 在接近 0~1 之間(會小於0 大於1)\n",
    "    Image_Adjed = Image_Temp*(Cmax_Buffered-Cmin_Buffered)+Cmin_Buffered\n",
    "    # 前10張的亮度的平均數值 使用上面那一行相反的運算方式還原回去\n",
    "    Image_Adjed = np.clip(Image_Adjed, a_min = 0, a_max=None)\n",
    "\n",
    "    Image_Stack_Blur_AHist_Corr[p] = Image_Adjed\n"
   ]
  },
  {
   "cell_type": "code",
   "execution_count": null,
   "id": "9d3f2750",
   "metadata": {},
   "outputs": [],
   "source": [
    "if debug_matlab_print :\n",
    "    print(\"Image_Stack_Blur_AHist_Corr W: \" + str(Image_Stack_Blur_AHist_Corr[49,243,347]))\n",
    "    print(\"Image_Stack_Blur_AHist_Corr G: \" + str(Image_Stack_Blur_AHist_Corr[49,79,146]) )\n",
    "    print(\"Image_Stack_Blur_AHist_Corr B: \" + str(Image_Stack_Blur_AHist_Corr[49,50,210]) )"
   ]
  },
  {
   "cell_type": "code",
   "execution_count": null,
   "id": "e26196cd",
   "metadata": {},
   "outputs": [],
   "source": [
    "if debug_print :\n",
    "    # 確認\n",
    "    print(Image_Stack_Blur_AHist_Corr.shape)\n",
    "    print(Image_Stack_Blur_AHist_Corr.dtype)\n",
    "    plt.imshow(Image_Stack_Blur_AHist_Corr[100], cmap='gray')\n",
    "    print(Image_Stack_Blur_AHist_Corr[100])\n",
    "\n",
    "    if print_process :\n",
    "        write_output(Image_Stack_Blur_AHist_Corr)"
   ]
  },
  {
   "cell_type": "code",
   "execution_count": null,
   "id": "3d8fa877",
   "metadata": {},
   "outputs": [],
   "source": [
    "if debug_print :\n",
    "    print(Image_Stack_Blur_AHist_Corr[0,0,300])\n",
    "    iii = Image_Stack_Blur_AHist_Corr[:,:,300]\n",
    "    print(iii)\n",
    "    plt.imshow(iii, cmap='gray')\n"
   ]
  },
  {
   "cell_type": "code",
   "execution_count": null,
   "id": "e752d1b0",
   "metadata": {},
   "outputs": [],
   "source": [
    "# tag 4.0 XZ 前處理(參數) \n",
    "Median_1=1\n",
    "Median_2=1\n",
    "Blur_1=5\n",
    "Blur_2=20\n",
    "Exp_1=1\n",
    "Exp_2=1.5\n",
    "Exp_3=0.45\n",
    "\n",
    "C_max_Def=2 # 3.9  %4.5\n",
    "C_min_Def=0.6 # 2.1  %2.7\n",
    "\n",
    "Nperc=0.03\n",
    "Cmin_Ratio=0.48\n",
    "\n",
    "Cmax_AB=0.99\n",
    "Cmin_AB=0.42"
   ]
  },
  {
   "cell_type": "code",
   "execution_count": null,
   "id": "55f1c3c8",
   "metadata": {},
   "outputs": [],
   "source": [
    "# 這裡開始對 XZ plane 做處理\n",
    "from math import log\n",
    "\n",
    "Processed_B_Stack = np.zeros( shape = data_pic.shape , dtype=data_pic.dtype ) \n",
    "# tag 3 XZ 前處理\n",
    "for p in range(Image_Stack_Blur_AHist_Corr.shape[2]):\n",
    "# for p in range(1):\n",
    "    Image_XZ_Original = Image_Stack_Blur_AHist_Corr[:,p,:]\n",
    "    Image_Log = np.log(Image_XZ_Original)\n",
    "    Image_Log = np.where( Image_Log == -np.inf, np.nan, Image_Log ) # 因為 log(0) 會是負無限大 所以要把這些值去除\n",
    "    Image_Log_flat = Image_Log.flatten()\n",
    "    Image_Log_Sort_1D = np.sort(Image_Log_flat)\n",
    "    Image_Log_Sort_1D_front = Image_Log_Sort_1D[0:round(Image_Log_Sort_1D.shape[0]/10.0)-1] # index 問題\n",
    "    Min_by_Sort = np.nanmean(Image_Log_Sort_1D_front)\n",
    "    # print(\"Min_by_Sort :\",Min_by_Sort) # 沒問題\n",
    "    Image_Log = Image_Log - Min_by_Sort\n",
    "    Image_Log = np.where( Image_Log == np.nan, 0, Image_Log)\n",
    "    Image_Log = np.clip(Image_Log, a_min = 0, a_max=None)\n",
    "\n",
    "    # tag 4 XZ  log 完後 模糊處理\n",
    "    Image_Blur_1 = gaussian_filter(Image_Log, sigma = Blur_1, mode = 'nearest', truncate = np.ceil(2*Blur_1)/Blur_1)\n",
    "    # print(\"Image_Blur_1 :\",Image_Blur_1)\n",
    "    Image_Blur_2 = gaussian_filter(Image_Log, sigma = Blur_2, mode = 'nearest', truncate = np.ceil(2*Blur_2)/Blur_2)\n",
    "    # print(\"Image_Blur_2 :\",Image_Blur_2)\n",
    "\n",
    "    from scipy.signal import medfilt2d\n",
    "    # 中值濾波 \n",
    "\n",
    "    Image_1st_Backup = Image_Log-Image_Blur_1\n",
    "    # Image_1st_Backup = medfilt2d(Image_1st_Backup,(Median_1, Median_1))\n",
    "    Image_1st = Image_1st_Backup**Exp_1\n",
    "    Image_1st = (Image_1st/np.max(Image_1st))*np.max(Image_1st_Backup)\n",
    "\n",
    "    Image_2nd_Backup = Image_Blur_1 / Image_Blur_2\n",
    "    # Image_2nd_Backup = medfilt2d(Image_2nd_Backup,(Median_2, Median_2))\n",
    "    Image_2nd = Image_2nd_Backup**Exp_2\n",
    "    Image_2nd = (Image_2nd/np.max(Image_2nd))*np.max(Image_2nd_Backup)\n",
    "\n",
    "    Image_3rd_Backup = Image_Blur_2\n",
    "    Image_3rd = Image_3rd_Backup**Exp_3\n",
    "    Image_3rd = (Image_3rd / np.max(Image_3rd)) * np.max(Image_3rd_Backup)\n",
    "\n",
    "    # print(\"Image_1st\")\n",
    "    # print(Image_1st)\n",
    "    # print(\"Image_2nd\")\n",
    "    # print(Image_2nd)\n",
    "    # print(\"Image_3rd\")\n",
    "    # print(Image_3rd)\n",
    "    # 這裡都是 Log 之後的結果在做運算 所以變成很小的數字也合情合理 (反正下一步 是會拓展成0~1之間)\n",
    "    Image_Rec = Image_3rd * Image_2nd + Image_1st    #.*Image_Map_1st;\n",
    "\n",
    "    Processed_B_Stack[:,p,:]=Image_Rec"
   ]
  },
  {
   "cell_type": "code",
   "execution_count": null,
   "id": "8572cbcd",
   "metadata": {},
   "outputs": [],
   "source": [
    "if debug_matlab_print :\n",
    "    print(\"Processed_B_Stack W: \" + str(Processed_B_Stack[49,243,347]))\n",
    "    print(\"Processed_B_Stack G: \" + str(Processed_B_Stack[49,79,146]) )\n",
    "    print(\"Processed_B_Stack B: \" + str(Processed_B_Stack[49,50,210]) )"
   ]
  },
  {
   "cell_type": "code",
   "execution_count": null,
   "id": "5a2ac92e",
   "metadata": {},
   "outputs": [],
   "source": [
    "if debug_print :\n",
    "    plt.imshow(Image_Rec, cmap='gray')\n",
    "    print(Image_Rec)"
   ]
  },
  {
   "cell_type": "code",
   "execution_count": null,
   "id": "44af8d98",
   "metadata": {},
   "outputs": [],
   "source": [
    "if debug_print :\n",
    "    print(\"Image_1st\")\n",
    "    print(Image_1st)\n",
    "    print(\"Image_2nd\")\n",
    "    print(Image_2nd)\n",
    "    print(\"Image_3rd\")\n",
    "    print(Image_3rd)"
   ]
  },
  {
   "cell_type": "code",
   "execution_count": null,
   "id": "620284d7",
   "metadata": {},
   "outputs": [],
   "source": [
    "if debug_print :\n",
    "    # 確認\n",
    "    print(Processed_B_Stack.shape)\n",
    "    print(Processed_B_Stack.dtype)\n",
    "    plt.imshow(Processed_B_Stack[100], cmap='gray')\n",
    "    print(Processed_B_Stack[100])\n",
    "\n",
    "    if print_process :\n",
    "        write_output(Processed_B_Stack,\"Processed_B_Stack\")"
   ]
  },
  {
   "cell_type": "code",
   "execution_count": null,
   "id": "420d02c6",
   "metadata": {},
   "outputs": [],
   "source": [
    "if debug_print :\n",
    "    print(np.max(Processed_B_Stack))\n",
    "    print(np.min(Processed_B_Stack))"
   ]
  },
  {
   "cell_type": "code",
   "execution_count": null,
   "id": "16fa4af7",
   "metadata": {},
   "outputs": [],
   "source": [
    "if debug_print :\n",
    "    plt.imshow(Processed_B_Stack[100], cmap='gray')\n",
    "    print(Processed_B_Stack)"
   ]
  },
  {
   "cell_type": "code",
   "execution_count": null,
   "id": "021baa54",
   "metadata": {},
   "outputs": [],
   "source": [
    "# tag 5 最後處理\n",
    "\n",
    "# 把數值調整到 0~1 之間 (超過的數值會調整)\n",
    "Adj1=1; \n",
    "Adj2=1; #0.3"
   ]
  },
  {
   "cell_type": "code",
   "execution_count": null,
   "id": "0c08598b",
   "metadata": {},
   "outputs": [],
   "source": [
    "Histogram_Corr_Image_Stack = Processed_B_Stack.copy()\n",
    "# 還是對 XZ, 做正規化 \n",
    "for p in range(Processed_B_Stack.shape[1]):\n",
    "    Current_Image = Processed_B_Stack[:,p,:]\n",
    "    ROI_Image=Current_Image[29:,99:925] # index 問題\n",
    "    if p == 99 :\n",
    "        print(\"ROI_Image final value :\",ROI_Image[99][99])\n",
    "\n",
    "    ROI_Image = ROI_Image.flatten()\n",
    "    Sort_ascend = np.sort(ROI_Image)\n",
    "    if p == 99 :\n",
    "        print(\"Sort_ascend len :\", len(Sort_ascend))\n",
    "\n",
    "    get_place = round(len(Sort_ascend)*Adj1/100.0)-1 # index 問題\n",
    "    Cmin = Sort_ascend[get_place]\n",
    "    Cmax = Sort_ascend[ -get_place + 1 ]*1.15\n",
    "\n",
    "    Image_Norm=(Current_Image-Cmin) / (Cmax-Cmin)\n",
    "    Image_Norm = np.clip(Image_Norm, a_min = 0, a_max=1)\n",
    "    Histogram_Corr_Image_Stack[:,p,:] = Image_Norm"
   ]
  },
  {
   "cell_type": "code",
   "execution_count": null,
   "id": "258b71f2",
   "metadata": {},
   "outputs": [],
   "source": [
    "if debug_matlab_print :\n",
    "    print(\"Histogram_Corr_Image_Stack W: \" + str(Histogram_Corr_Image_Stack[49,243,347]))\n",
    "    print(\"Histogram_Corr_Image_Stack G: \" + str(Histogram_Corr_Image_Stack[49,79,146]) )\n",
    "    print(\"Histogram_Corr_Image_Stack B: \" + str(Histogram_Corr_Image_Stack[49,50,210]) )"
   ]
  },
  {
   "cell_type": "code",
   "execution_count": null,
   "id": "b9018295",
   "metadata": {},
   "outputs": [],
   "source": [
    "# 看一下最終結果\n",
    "plt.imshow(Histogram_Corr_Image_Stack[100], cmap='gray')"
   ]
  },
  {
   "cell_type": "code",
   "execution_count": null,
   "id": "290d3703",
   "metadata": {},
   "outputs": [],
   "source": [
    "write_output(Histogram_Corr_Image_Stack,\"Normalize\")"
   ]
  }
 ],
 "metadata": {
  "kernelspec": {
   "display_name": "Python 3 (ipykernel)",
   "language": "python",
   "name": "python3"
  },
  "language_info": {
   "codemirror_mode": {
    "name": "ipython",
    "version": 3
   },
   "file_extension": ".py",
   "mimetype": "text/x-python",
   "name": "python",
   "nbconvert_exporter": "python",
   "pygments_lexer": "ipython3",
   "version": "3.7.13"
  },
  "vscode": {
   "interpreter": {
    "hash": "1ad7bc37b9dbb5fc630683fa6ac3f4a09f3b221e501e9b7b281182d1132c149f"
   }
  }
 },
 "nbformat": 4,
 "nbformat_minor": 5
}
